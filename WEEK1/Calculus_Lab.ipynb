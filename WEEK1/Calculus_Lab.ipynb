{
  "nbformat": 4,
  "nbformat_minor": 0,
  "metadata": {
    "colab": {
      "provenance": [],
      "collapsed_sections": []
    },
    "kernelspec": {
      "name": "python3",
      "display_name": "Python 3"
    },
    "language_info": {
      "name": "python"
    }
  },
  "cells": [
    {
      "cell_type": "markdown",
      "source": [
        "#Importing Library: Numpy\n",
        "(From Last week's Lab, you can find more information about **\"NumPy\"** library).\n",
        "\n",
        "NumPy is the fundamental Python library for numerical computing. "
      ],
      "metadata": {
        "id": "bNosv0_As7U0"
      }
    },
    {
      "cell_type": "code",
      "source": [
        "import numpy as np"
      ],
      "metadata": {
        "id": "u_1Fy4tAxAvT"
      },
      "execution_count": null,
      "outputs": []
    },
    {
      "cell_type": "markdown",
      "source": [
        "#Importing Library: SciPy\n",
        "(From Last week's Lab, you can find more information about **\"SciPy\"** library).\n",
        "\n",
        "**SciPy** stands for Scientific python. For some statistical calculation we do need Scipy e.g, during last week, you have used stats from Scipy to calculate \"Mode\".\n",
        "\n"
      ],
      "metadata": {
        "id": "2VPinPufxJjf"
      }
    },
    {
      "cell_type": "code",
      "source": [
        "from scipy import stats"
      ],
      "metadata": {
        "id": "IJlp7e43za2D"
      },
      "execution_count": null,
      "outputs": []
    },
    {
      "cell_type": "markdown",
      "source": [
        "#Importing Library: Math\n",
        "\n",
        "**Math** is a library you can apply for performing mathematical tasks by using different Math methods in this library."
      ],
      "metadata": {
        "id": "ooM1zm_gziG9"
      }
    },
    {
      "cell_type": "code",
      "source": [
        "import math as mt"
      ],
      "metadata": {
        "id": "DkBJYwGN0qvJ"
      },
      "execution_count": null,
      "outputs": []
    },
    {
      "cell_type": "markdown",
      "source": [
        "#Importing Library: Random\n",
        "Python has a built-in library **random** which can be used for generating random numbers/values\n"
      ],
      "metadata": {
        "id": "Zl-nQ8c00L6D"
      }
    },
    {
      "cell_type": "code",
      "source": [
        "import random as rnd "
      ],
      "metadata": {
        "id": "2kgzD8ph2P5u"
      },
      "execution_count": null,
      "outputs": []
    },
    {
      "cell_type": "markdown",
      "source": [
        "#Calculus:\n",
        "Solving an expression in Python \n",
        "\n",
        "An example code is provided below, notice the use of paranthesis:"
      ],
      "metadata": {
        "id": "HM5LBqiq7Iry"
      }
    },
    {
      "cell_type": "code",
      "source": [
        "my_value = 2 * (3 + 2)**2 / 5 - 4\n",
        "\n",
        "print(my_value) # prints 6.0\n",
        "\n"
      ],
      "metadata": {
        "colab": {
          "base_uri": "https://localhost:8080/"
        },
        "id": "jqTXfoaW8GeM",
        "outputId": "6aa33976-561a-4267-b6c2-cc82991319b1"
      },
      "execution_count": null,
      "outputs": [
        {
          "output_type": "stream",
          "name": "stdout",
          "text": [
            "6.0\n"
          ]
        }
      ]
    },
    {
      "cell_type": "markdown",
      "source": [
        "# Question 1 \n",
        "Using the code given above, solve the following expressions\n",
        "\n",
        "a. 5+[−2(−1+3)]^2\n",
        "\n",
        "b. 9 - 5 / ( 8 - 3) * 2 + 6\n"
      ],
      "metadata": {
        "id": "Ff_ksLn1EUq5"
      }
    },
    {
      "cell_type": "markdown",
      "source": [
        "# Declaring a linear function in Python \n",
        "The example code given below shows how to declare a linear function which takes in values and gives an output. "
      ],
      "metadata": {
        "id": "mCXTbCrBBi7I"
      }
    },
    {
      "cell_type": "code",
      "source": [
        "def f(x):\n",
        "    return 2 * x + 1\n",
        "\n",
        "\n",
        "x_values = [0, 1, 2, 3]\n",
        "\n",
        "for x in x_values:\n",
        "    y = f(x)\n",
        "    print(y)\n"
      ],
      "metadata": {
        "id": "o1D2LW3kHf5Y"
      },
      "execution_count": null,
      "outputs": []
    },
    {
      "cell_type": "markdown",
      "source": [
        "#Question:2\n",
        "Declare the following linear functions and calculate the corresponding values of y for the given x values. \n",
        "\n",
        "a. x + y = 10  x= (3, 5, 6, 8) \n",
        "\n",
        "b. 4x + 1 = 2y x= (0, 2, 4, 7)\n"
      ],
      "metadata": {
        "id": "V1thnB7lZGx4"
      }
    },
    {
      "cell_type": "code",
      "source": [],
      "metadata": {
        "id": "y5ST5NZRGxZG"
      },
      "execution_count": null,
      "outputs": []
    },
    {
      "cell_type": "markdown",
      "source": [
        "#Charting a linear function in python:\n",
        "You can use python to make a graphical representation of any given linear function.\n",
        "\n",
        "An example code is provided below:"
      ],
      "metadata": {
        "id": "E00dP_qZApqx"
      }
    },
    {
      "cell_type": "code",
      "source": [
        "from sympy import *\n",
        "\n",
        "x = symbols('x')\n",
        "f = 2*x + 1\n",
        "plot(f)\n",
        "\n"
      ],
      "metadata": {
        "colab": {
          "base_uri": "https://localhost:8080/",
          "height": 313
        },
        "id": "H-E-coILBBH2",
        "outputId": "2c608ca9-e1f2-4e8a-81c3-3f16ebf6467c"
      },
      "execution_count": null,
      "outputs": [
        {
          "output_type": "display_data",
          "data": {
            "text/plain": [
              "<Figure size 432x288 with 1 Axes>"
            ],
            "image/png": "[encoded data removed]"
          },
          "metadata": {
            "needs_background": "light"
          }
        },
        {
          "output_type": "execute_result",
          "data": {
            "text/plain": [
              "<sympy.plotting.plot.Plot at 0x7ff3ed16ec50>"
            ]
          },
          "metadata": {},
          "execution_count": 7
        }
      ]
    },
    {
      "cell_type": "markdown",
      "source": [
        "#Question 3: \n",
        "Using the example code , make a graph of the following linear function \n",
        "\n",
        "y = x + 5 \n",
        "\n"
      ],
      "metadata": {
        "id": "Cl2VOiUtiozC"
      }
    },
    {
      "cell_type": "markdown",
      "source": [
        "#Charting an exponential function\n",
        "\n",
        "Python also gives an option to graphically represent exponential functions, the example code is given below \n",
        " "
      ],
      "metadata": {
        "id": "72cVmKAUNbgn"
      }
    },
    {
      "cell_type": "code",
      "source": [
        "from sympy import *\n",
        "\n",
        "x = symbols('x')\n",
        "f = x**2 + 1\n",
        "plot(f)"
      ],
      "metadata": {
        "id": "Neg24XIbOWwE"
      },
      "execution_count": null,
      "outputs": []
    },
    {
      "cell_type": "markdown",
      "source": [
        "#Question 4 \n",
        "Chart the following exponential function, using the example code given above, \n",
        "f(x) = 4x^2 + 1 \n"
      ],
      "metadata": {
        "id": "qLDPUM22Q0Gz"
      }
    },
    {
      "cell_type": "code",
      "source": [],
      "metadata": {
        "id": "G0l_M3EhGtsd"
      },
      "execution_count": null,
      "outputs": []
    },
    {
      "cell_type": "markdown",
      "source": [
        "#Using Python to solve exponents \n",
        "Sympy library also helps to solve exponents. \n",
        "Example code is given below. \n"
      ],
      "metadata": {
        "id": "OEZlMTgmQ0Xq"
      }
    },
    {
      "cell_type": "code",
      "source": [
        "from sympy import *\n",
        "\n",
        "x = symbols('x')\n",
        "expr = x**2 / x**5\n",
        "print(expr) # x**(-3)"
      ],
      "metadata": {
        "colab": {
          "base_uri": "https://localhost:8080/"
        },
        "id": "-uuTOkhCSOtR",
        "outputId": "ba520817-b07c-4917-9d93-f8cb16accaee"
      },
      "execution_count": null,
      "outputs": [
        {
          "output_type": "stream",
          "name": "stdout",
          "text": [
            "x**(-3)\n"
          ]
        }
      ]
    },
    {
      "cell_type": "markdown",
      "source": [
        "#Question 5 \n",
        "Write a code to solve the following exponent (-2/3)^-1 \n",
        "\n",
        "\n"
      ],
      "metadata": {
        "id": "Ay3XXiMb1Awj"
      }
    },
    {
      "cell_type": "code",
      "source": [],
      "metadata": {
        "id": "GrEPk2UtGz1r"
      },
      "execution_count": null,
      "outputs": []
    },
    {
      "cell_type": "markdown",
      "source": [
        "# Logarithms\n",
        "The log function helps in solving problems involving logrithms. Example code is given below \n"
      ],
      "metadata": {
        "id": "k1vL1c0BuvsV"
      }
    },
    {
      "cell_type": "code",
      "source": [
        "from math import log\n",
        "\n",
        "# 2 raised to what power gives me 8?\n",
        "x = log(8, 2)\n",
        "\n",
        "print(x) # prints 3.0"
      ],
      "metadata": {
        "id": "TydI6AnzG0ci",
        "colab": {
          "base_uri": "https://localhost:8080/"
        },
        "outputId": "ea0c2144-1149-4f39-ed82-7e8277f916e5"
      },
      "execution_count": null,
      "outputs": [
        {
          "output_type": "stream",
          "name": "stdout",
          "text": [
            "3.0\n"
          ]
        }
      ]
    },
    {
      "cell_type": "markdown",
      "source": [
        "#Question 6\n",
        "\n",
        "Using the code above, solve these logrithm questions \n",
        "\n",
        "a. 3^x = 81 \n",
        "\n",
        "b. 5^x = 125\n",
        "\n",
        "\n"
      ],
      "metadata": {
        "id": "ZSOJp_WIT3m5"
      }
    },
    {
      "cell_type": "code",
      "source": [],
      "metadata": {
        "id": "8_eTghrVUH0Y"
      },
      "execution_count": null,
      "outputs": []
    },
    {
      "cell_type": "code",
      "source": [],
      "metadata": {
        "id": "rv3kfCIJx7fi"
      },
      "execution_count": null,
      "outputs": []
    },
    {
      "cell_type": "markdown",
      "source": [
        "#Using sympy to calculate limits\n",
        "\n",
        "Python can help calculate limits using the code given below"
      ],
      "metadata": {
        "id": "HcYsL9I3onSL"
      }
    },
    {
      "cell_type": "code",
      "source": [
        "from sympy import *\n",
        "\n",
        "x = symbols('x')\n",
        "f = 1 / x\n",
        "result = limit(f, x, oo)\n",
        "\n",
        "print(result) # 0"
      ],
      "metadata": {
        "id": "Kwmqd1gJG4KP",
        "colab": {
          "base_uri": "https://localhost:8080/"
        },
        "outputId": "6a9436f1-dee4-474c-8312-e3e6938a60ee"
      },
      "execution_count": null,
      "outputs": [
        {
          "output_type": "stream",
          "name": "stdout",
          "text": [
            "0\n"
          ]
        }
      ]
    },
    {
      "cell_type": "markdown",
      "source": [
        "# Question 7 \n",
        "\n",
        "Using the code above, solve the following \n",
        "\n",
        "lim (x→1)[ x^2−1 / x−1 ]\n"
      ],
      "metadata": {
        "id": "Zp-4yItLpEM1"
      }
    },
    {
      "cell_type": "code",
      "source": [],
      "metadata": {
        "id": "ucgw4Hq9L5kI"
      },
      "execution_count": null,
      "outputs": []
    },
    {
      "cell_type": "markdown",
      "source": [
        "# Derivative Calculator in python \n",
        "The following sample code can help you in calculating the derivative of a given function. "
      ],
      "metadata": {
        "id": "4bwg_-mk6kmp"
      }
    },
    {
      "cell_type": "code",
      "source": [
        "from sympy import *\n",
        "\n",
        "# Declare 'x' to SymPy\n",
        "x = symbols('x')\n",
        "\n",
        "# Now just use Python syntax to declare function\n",
        "f = x**2 \n",
        "\n",
        "# Calculate the derivative of the function\n",
        "dx_f = diff(f)\n",
        "print(dx_f) # prints 2*x\n",
        "\n",
        "\n"
      ],
      "metadata": {
        "colab": {
          "base_uri": "https://localhost:8080/"
        },
        "id": "ackZI1wwG60T",
        "outputId": "f141ecb8-2a47-468c-875c-f9a4e782fc6c"
      },
      "execution_count": null,
      "outputs": [
        {
          "output_type": "stream",
          "name": "stdout",
          "text": [
            "2*x\n"
          ]
        }
      ]
    },
    {
      "cell_type": "markdown",
      "source": [
        "#Question:8\n",
        "Calculate the derivative of the following functions:\n",
        "\n",
        "a. 2x + 4x \n",
        "\n",
        "b. 6x^3 - 2x "
      ],
      "metadata": {
        "id": "zWpGxb9C8b70"
      }
    },
    {
      "cell_type": "code",
      "source": [],
      "metadata": {
        "id": "gm-D2lk_Oa2X"
      },
      "execution_count": null,
      "outputs": []
    },
    {
      "cell_type": "markdown",
      "source": [
        "# Integrals \n",
        "The following code can calculate integrals. \n"
      ],
      "metadata": {
        "id": "3moRhBcpyLF7"
      }
    },
    {
      "cell_type": "code",
      "source": [
        "from sympy import *\n",
        "\n",
        "# Declare 'x' to SymPy\n",
        "x = symbols('x')\n",
        "\n",
        "# Now just use Python syntax to declare function\n",
        "f = x**2 + 1\n",
        "\n",
        "# Calculate the integral of the function with respect to x\n",
        "# for the area between x = 0 and 1\n",
        "area = integrate(f, (x, 0, 1))\n",
        "\n",
        "print(area) # prints 4/3"
      ],
      "metadata": {
        "id": "2JKAtLiHppFr"
      },
      "execution_count": null,
      "outputs": []
    },
    {
      "cell_type": "markdown",
      "source": [
        "# Question 9 \n",
        "Using the code given above, write a code to calculate the integrals of the following for the given values of x \n",
        "\n",
        "a. 4x + 10 between x= 0 and x=20\n",
        "b. 6x^2 - 5. between x= 3 and x= 4 "
      ],
      "metadata": {
        "id": "BTdwSx6jptNq"
      }
    }
  ]
}