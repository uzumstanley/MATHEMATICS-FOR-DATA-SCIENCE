{
  "cells": [
    {
      "cell_type": "code",
      "execution_count": null,
      "metadata": {
        "id": "zjQ4rk5NYaH0"
      },
      "outputs": [],
      "source": [
        "import numpy as np\n",
        "from scipy import stats\n",
        "import math as mt\n",
        "import random as rnd"
      ]
    },
    {
      "cell_type": "code",
      "execution_count": null,
      "metadata": {
        "id": "5qpzNroIZdon"
      },
      "outputs": [],
      "source": [
        "X = stats.binom(40, 0.5) # Decclare X to be a binomial random variable"
      ]
    },
    {
      "cell_type": "code",
      "execution_count": null,
      "metadata": {
        "colab": {
          "base_uri": "https://localhost:8080/"
        },
        "id": "J54lNgsMbg_g",
        "outputId": "891563bd-cb8b-41c0-fa3f-805a303e098e"
      },
      "outputs": [
        {
          "name": "stdout",
          "output_type": "stream",
          "text": [
            "8.985807653516548e-09\n"
          ]
        }
      ],
      "source": [
        "print (X.pmf(3)) # p(X = 3) which implies we are calculating the mass function for the third trial"
      ]
    },
    {
      "cell_type": "code",
      "execution_count": null,
      "metadata": {
        "colab": {
          "base_uri": "https://localhost:8080/"
        },
        "id": "tuQQdbmncGxK",
        "outputId": "ebc05845-33e5-4896-c039-fadd0c6cacba"
      },
      "outputs": [
        {
          "name": "stdout",
          "output_type": "stream",
          "text": [
            "9.285122359870002e-08\n"
          ]
        }
      ],
      "source": [
        "print (X.cdf(4)) # p(X <= 4) which implies we are calculating the mass function for upto fourth trial"
      ]
    },
    {
      "cell_type": "code",
      "execution_count": null,
      "metadata": {
        "colab": {
          "base_uri": "https://localhost:8080/"
        },
        "id": "OHfeyAwzcSkR",
        "outputId": "005b40ae-1812-4e6d-f1ab-758f534af267"
      },
      "outputs": [
        {
          "name": "stdout",
          "output_type": "stream",
          "text": [
            "20.0\n"
          ]
        }
      ],
      "source": [
        "print (X.mean())     # Mean"
      ]
    },
    {
      "cell_type": "code",
      "execution_count": null,
      "metadata": {
        "colab": {
          "base_uri": "https://localhost:8080/"
        },
        "id": "y27h4RJMdxFq",
        "outputId": "826b6e78-1edf-4ed1-c386-d218100c7072"
      },
      "outputs": [
        {
          "name": "stdout",
          "output_type": "stream",
          "text": [
            "10.0\n"
          ]
        }
      ],
      "source": [
        "print (X.var())    # Variance"
      ]
    },
    {
      "cell_type": "code",
      "execution_count": null,
      "metadata": {
        "colab": {
          "base_uri": "https://localhost:8080/"
        },
        "id": "DDazlJ1sd7aS",
        "outputId": "5b939f38-9a45-4b89-aa47-a5a3d707e789"
      },
      "outputs": [
        {
          "name": "stdout",
          "output_type": "stream",
          "text": [
            "3.1622776601683795\n"
          ]
        }
      ],
      "source": [
        "print (X.std())   # Standard Deviation"
      ]
    },
    {
      "cell_type": "code",
      "execution_count": null,
      "metadata": {
        "id": "x_ZB1xtCfkKi"
      },
      "outputs": [],
      "source": [
        "QUESTION 1 SOLUTION"
      ]
    },
    {
      "cell_type": "code",
      "execution_count": null,
      "metadata": {
        "id": "De0Ag0WJfqIq"
      },
      "outputs": [],
      "source": [
        "import numpy as np\n",
        "from scipy import stats\n",
        "import math as mt\n",
        "import random as rnd"
      ]
    },
    {
      "cell_type": "code",
      "execution_count": null,
      "metadata": {
        "id": "HMRUBvSpf2AA"
      },
      "outputs": [],
      "source": [
        "X = stats.binom(5, 0.8)"
      ]
    },
    {
      "cell_type": "code",
      "execution_count": null,
      "metadata": {
        "colab": {
          "base_uri": "https://localhost:8080/"
        },
        "id": "Th7wEOcYhAad",
        "outputId": "193e61f3-98dc-48c7-f095-3ec59a3851bf"
      },
      "outputs": [
        {
          "name": "stdout",
          "output_type": "stream",
          "text": [
            "0.3276800000000001\n"
          ]
        }
      ],
      "source": [
        "print (X.pmf(5))"
      ]
    },
    {
      "cell_type": "code",
      "execution_count": null,
      "metadata": {
        "colab": {
          "base_uri": "https://localhost:8080/"
        },
        "id": "YeqcfoJfhKZM",
        "outputId": "8ad1b65b-1543-44f4-e06c-c4a29b90c344"
      },
      "outputs": [
        {
          "name": "stdout",
          "output_type": "stream",
          "text": [
            "1.0\n"
          ]
        }
      ],
      "source": [
        "print (X.cdf(5))"
      ]
    },
    {
      "cell_type": "code",
      "execution_count": null,
      "metadata": {
        "colab": {
          "base_uri": "https://localhost:8080/"
        },
        "id": "ztfaMuqqheJS",
        "outputId": "1ae2f8f1-c48d-416a-aaf4-32e1a6f9bb5c"
      },
      "outputs": [
        {
          "name": "stdout",
          "output_type": "stream",
          "text": [
            "4.0\n"
          ]
        }
      ],
      "source": [
        "print (X.mean())"
      ]
    },
    {
      "cell_type": "code",
      "execution_count": null,
      "metadata": {
        "colab": {
          "base_uri": "https://localhost:8080/"
        },
        "id": "Jdzgl2tYhmC1",
        "outputId": "62710ee9-c771-4b43-fcbc-edfb33232c15"
      },
      "outputs": [
        {
          "name": "stdout",
          "output_type": "stream",
          "text": [
            "0.7999999999999998\n"
          ]
        }
      ],
      "source": [
        "print (X.var())"
      ]
    },
    {
      "cell_type": "code",
      "execution_count": null,
      "metadata": {
        "colab": {
          "base_uri": "https://localhost:8080/"
        },
        "id": "IKc6_s9GhtJQ",
        "outputId": "3ed195eb-39d6-4d72-d827-ce185103d152"
      },
      "outputs": [
        {
          "name": "stdout",
          "output_type": "stream",
          "text": [
            "0.8944271909999157\n"
          ]
        }
      ],
      "source": [
        "print (X.std())"
      ]
    },
    {
      "cell_type": "code",
      "execution_count": null,
      "metadata": {
        "id": "-v4ots01mLIQ"
      },
      "outputs": [],
      "source": [
        "Generating Goemetric Distribution"
      ]
    },
    {
      "cell_type": "code",
      "execution_count": 29,
      "metadata": {
        "id": "lghkLeTzmXB6"
      },
      "outputs": [],
      "source": [
        "from scipy.stats import geom\n",
        "import matplotlib.pyplot as plt\n"
      ]
    },
    {
      "cell_type": "code",
      "execution_count": 30,
      "metadata": {
        "id": "sLOZ15cRmmDK"
      },
      "outputs": [],
      "source": [
        "# X = Discrete random variable representing number of throws\n",
        "# p = Probability of the perfect throw"
      ]
    },
    {
      "cell_type": "code",
      "execution_count": 37,
      "metadata": {
        "id": "kZghOzNkm9G_"
      },
      "outputs": [],
      "source": [
        "# Calculating for p = 1\n",
        "X = 1,2,3,4,5\n",
        "p = 0.04"
      ]
    },
    {
      "cell_type": "code",
      "execution_count": 38,
      "metadata": {
        "id": "R0NubUDwnQOT"
      },
      "outputs": [],
      "source": [
        "# Calculating geometric probability distribution\n",
        "geom_pd = geom.pmf (X, p)"
      ]
    },
    {
      "cell_type": "code",
      "execution_count": 39,
      "metadata": {
        "colab": {
          "base_uri": "https://localhost:8080/",
          "height": 595
        },
        "id": "RFpdCCI4nonm",
        "outputId": "3afc8315-f9d3-4747-d319-c29d6ffbbb54"
      },
      "outputs": [
        {
          "output_type": "execute_result",
          "data": {
            "text/plain": [
              "<matplotlib.collections.LineCollection at 0x79187b75d660>"
            ]
          },
          "metadata": {},
          "execution_count": 39
        },
        {
          "output_type": "display_data",
          "data": {
            "text/plain": [
              "<Figure size 800x600 with 1 Axes>"
            ],
            "image/png": "[encoded data removed]"
          },
          "metadata": {}
        }
      ],
      "source": [
        "# plot the probability distribution\n",
        "fig, ax = plt.subplots (1, 1, figsize=(8, 6))\n",
        "ax.plot (X, geom_pd, 'bo', ms=8, label='geom pmf')\n",
        "plt.xlabel (\"X - No. of Throws\", fontsize=\"18\")\n",
        "plt.ylabel (\"Probability\", fontsize=\"18\")\n",
        "plt.title (\"Geometric Distribution - No. of Throws Vs Probability\",\n",
        "           fontsize=\"18\")\n",
        "ax.vlines (X, 0, geom_pd, colors='b', lw=5, alpha=0.5)"
      ]
    },
    {
      "cell_type": "code",
      "source": [],
      "metadata": {
        "id": "z8SdstkNAmjY"
      },
      "execution_count": null,
      "outputs": []
    },
    {
      "cell_type": "code",
      "source": [
        "QUESTION 2 SOLUTION"
      ],
      "metadata": {
        "id": "x7P_7gPHAnky"
      },
      "execution_count": null,
      "outputs": []
    },
    {
      "cell_type": "code",
      "source": [
        "from scipy.stats import geom\n",
        "import matplotlib.pyplot as plt"
      ],
      "metadata": {
        "id": "rIGqgqOsAq_k"
      },
      "execution_count": 40,
      "outputs": []
    },
    {
      "cell_type": "code",
      "source": [
        "# X = Discrete random variable representing number of voter try\n",
        "# p = Probability of success"
      ],
      "metadata": {
        "id": "uE2k4f3GAyIh"
      },
      "execution_count": 41,
      "outputs": []
    },
    {
      "cell_type": "code",
      "source": [
        "# Calculating for p = 1\n",
        "X = 3\n",
        "p = 0.2"
      ],
      "metadata": {
        "id": "vUSeyHCeBJnC"
      },
      "execution_count": 42,
      "outputs": []
    },
    {
      "cell_type": "code",
      "source": [
        "# Calculating geometric probability distribution\n",
        "geom_pd = geom.pmf (X, p)"
      ],
      "metadata": {
        "id": "JdnbWv7dCR7-"
      },
      "execution_count": 43,
      "outputs": []
    },
    {
      "cell_type": "code",
      "source": [
        "# plot the probability distribution\n",
        "fig, ax = plt.subplots (1, 1, figsize=(8, 6))\n",
        "ax.plot (X, geom_pd, 'bo', ms=8, label='geom pmf')\n",
        "plt.xlabel (\"X - No. of Voter try\", fontsize=\"18\")\n",
        "plt.ylabel (\"Probability\", fontsize=\"18\")\n",
        "plt.title (\"Geometric Distribution - No. of Voter try Vs Probability\",\n",
        "           fontsize=\"18\")\n",
        "ax.vlines (X, 0, geom_pd, colors='b', lw=5, alpha=0.5)"
      ],
      "metadata": {
        "colab": {
          "base_uri": "https://localhost:8080/",
          "height": 595
        },
        "id": "ttNRlsQuCUhq",
        "outputId": "0648b98b-1287-4783-d3cb-fd728d70177d"
      },
      "execution_count": 44,
      "outputs": [
        {
          "output_type": "execute_result",
          "data": {
            "text/plain": [
              "<matplotlib.collections.LineCollection at 0x79187b8752d0>"
            ]
          },
          "metadata": {},
          "execution_count": 44
        },
        {
          "output_type": "display_data",
          "data": {
            "text/plain": [
              "<Figure size 800x600 with 1 Axes>"
            ],
            "image/png": "[encoded data removed]"
          },
          "metadata": {}
        }
      ]
    }
  ],
  "metadata": {
    "colab": {
      "provenance": []
    },
    "kernelspec": {
      "display_name": "Python 3",
      "name": "python3"
    },
    "language_info": {
      "name": "python"
    }
  },
  "nbformat": 4,
  "nbformat_minor": 0
}