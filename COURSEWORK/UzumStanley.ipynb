{
  "nbformat": 4,
  "nbformat_minor": 0,
  "metadata": {
    "colab": {
      "provenance": []
    },
    "kernelspec": {
      "name": "python3",
      "display_name": "Python 3"
    },
    "language_info": {
      "name": "python"
    }
  },
  "cells": [
    {
      "cell_type": "markdown",
      "source": [
        "Data Analysis for Provisional_COVID-19_Deaths_by_Sex_and_Age. As a Data Scientist i want to calculate the mean of 'Total Deaths', the median of 'COVID-19 Deaths', the mode of the 'Sex' with higher death occurance, range of 'Influenza Deaths', the variance of 'Influenza Death' spread of the dataset, the Standard Deviation of 'Influenza Death' Deviation score, the PMF(probability mass function) of 'Influenza Death' mass function, the PDF(probability density function) of 'Influenza Death' and visualize the distributions of the dataset to derive useful insight from 'Provisional_COVID-19_Deaths_by_Sex_and_Age' data."
      ],
      "metadata": {
        "id": "bWk4CVcSwjbE"
      }
    },
    {
      "cell_type": "markdown",
      "source": [
        "#DataSet Overview"
      ],
      "metadata": {
        "id": "Tkljd8V-3whr"
      }
    },
    {
      "cell_type": "markdown",
      "source": [
        "All data come from one source which was csv file shared and contains details in columns as following."
      ],
      "metadata": {
        "id": "_PnMvhQ44c62"
      }
    },
    {
      "cell_type": "markdown",
      "source": [
        "index: just index"
      ],
      "metadata": {
        "id": "NiiFg9874pkq"
      }
    },
    {
      "cell_type": "markdown",
      "source": [
        "Data As Of: Initial data point"
      ],
      "metadata": {
        "id": "rvglK7MK4qx5"
      }
    },
    {
      "cell_type": "markdown",
      "source": [
        "Start Date: Start date"
      ],
      "metadata": {
        "id": "-PPXn1365D6Y"
      }
    },
    {
      "cell_type": "markdown",
      "source": [
        "End Date: End date"
      ],
      "metadata": {
        "id": "XyTqoclz5L5-"
      }
    },
    {
      "cell_type": "markdown",
      "source": [
        "Group: The group order"
      ],
      "metadata": {
        "id": "045hHMaS5Rzj"
      }
    },
    {
      "cell_type": "markdown",
      "source": [
        "Year: The year"
      ],
      "metadata": {
        "id": "OfqSSjPV5c25"
      }
    },
    {
      "cell_type": "markdown",
      "source": [
        "Month: The month"
      ],
      "metadata": {
        "id": "M05-gU5l5pg5"
      }
    },
    {
      "cell_type": "markdown",
      "source": [
        "State: The state"
      ],
      "metadata": {
        "id": "pibJXnav5xbe"
      }
    },
    {
      "cell_type": "markdown",
      "source": [
        "Sex: The gender(Sex)"
      ],
      "metadata": {
        "id": "CLyu66p555_D"
      }
    },
    {
      "cell_type": "markdown",
      "source": [
        "Age Group: The age group order"
      ],
      "metadata": {
        "id": "IerCCp736ORz"
      }
    },
    {
      "cell_type": "markdown",
      "source": [
        "COVID-19 Deaths: The COVID-19 Deaths scores"
      ],
      "metadata": {
        "id": "_NJtlBJ86W4V"
      }
    },
    {
      "cell_type": "markdown",
      "source": [
        "Total Deaths: Total death scores"
      ],
      "metadata": {
        "id": "H8UXp-QO6k1m"
      }
    },
    {
      "cell_type": "markdown",
      "source": [
        "Pneumonia Deaths: The Pneumonia Deaths scores"
      ],
      "metadata": {
        "id": "ZfhWtmuL6xvh"
      }
    },
    {
      "cell_type": "markdown",
      "source": [
        "Pneumonia and COVID-19 Deaths: The Pneumonia and COVID-19 Deaths scores"
      ],
      "metadata": {
        "id": "SzC_pmIM671P"
      }
    },
    {
      "cell_type": "markdown",
      "source": [
        "Influenza Deaths: The Influenza Deaths scores"
      ],
      "metadata": {
        "id": "Mq4cqahl7Dz_"
      }
    },
    {
      "cell_type": "markdown",
      "source": [
        "Pneumonia, Influenza, or COVID-19 Deaths: The Pneumonia, Influenza, or COVID-19 Deaths scores"
      ],
      "metadata": {
        "id": "kWgS-gMn7SIE"
      }
    },
    {
      "cell_type": "markdown",
      "source": [
        "Footnote: The Footnote records"
      ],
      "metadata": {
        "id": "z-Q2Ue_a7cHv"
      }
    },
    {
      "cell_type": "markdown",
      "source": [
        "#Tasks"
      ],
      "metadata": {
        "id": "A2wdFDeC7vhV"
      }
    },
    {
      "cell_type": "markdown",
      "source": [
        "We will go through several tasks to archieve our goals and purposes:"
      ],
      "metadata": {
        "id": "GKvknjjm74ZS"
      }
    },
    {
      "cell_type": "markdown",
      "source": [
        "Task1: Problem statement(goals and purpose)for Provisional_COVID-19_Deaths_by_Sex_and_Age Dataset for Analysis with an overview of the whole Dataset"
      ],
      "metadata": {
        "id": "SkyUlXcz83KG"
      }
    },
    {
      "cell_type": "markdown",
      "source": [
        "Task2: Importing libraries"
      ],
      "metadata": {
        "id": "e1qmhTHQSA-H"
      }
    },
    {
      "cell_type": "markdown",
      "source": [
        "Task3: Loading data from my google drive, i used 'COLAB' for my python programming"
      ],
      "metadata": {
        "id": "eLdW3QqJSQS4"
      }
    },
    {
      "cell_type": "markdown",
      "source": [
        "Task4: Viewing the data, the head view of the 1st 5 rows of the data"
      ],
      "metadata": {
        "id": "rTADsTROSb5g"
      }
    },
    {
      "cell_type": "markdown",
      "source": [
        "Task5: Viewing the data, the bottom view of the 1st 5 rows of the train data"
      ],
      "metadata": {
        "id": "cfOc0ZAUShUi"
      }
    },
    {
      "cell_type": "markdown",
      "source": [
        "Task6: To view the shape of the data"
      ],
      "metadata": {
        "id": "i5P1yoLVSjuF"
      }
    },
    {
      "cell_type": "markdown",
      "source": [
        "Task7: Checking for NAN/NULL values(missing values) of the data"
      ],
      "metadata": {
        "id": "1bc8ISD0Sn0g"
      }
    },
    {
      "cell_type": "markdown",
      "source": [
        "Task8: To get the details of the data colums nature information"
      ],
      "metadata": {
        "id": "urLpWGTnSpLE"
      }
    },
    {
      "cell_type": "markdown",
      "source": [
        "Task9: To get the full descriptive statistics chart table for 'Year' colum from the data with missing values"
      ],
      "metadata": {
        "id": "i1ejNoY7Sqlj"
      }
    },
    {
      "cell_type": "markdown",
      "source": [
        "Task10: Computing mean value Year to the missing values in Year colum"
      ],
      "metadata": {
        "id": "9huBu7RQSsRI"
      }
    },
    {
      "cell_type": "markdown",
      "source": [
        "Task11: Computing mean value Month to the missing values in Month colum"
      ],
      "metadata": {
        "id": "YbydrF9vStz1"
      }
    },
    {
      "cell_type": "markdown",
      "source": [
        "Task12: Computing mean value COVID-19 Deaths to the missing values in COVID-19 Deaths colum"
      ],
      "metadata": {
        "id": "QnlX8ILfSvBJ"
      }
    },
    {
      "cell_type": "markdown",
      "source": [
        "Task13: Computing mean value Total Deaths to the missing values in Total Deaths colum"
      ],
      "metadata": {
        "id": "2YOPKVqpSxmM"
      }
    },
    {
      "cell_type": "markdown",
      "source": [
        "Task14: Computing mean value Pneumonia Deaths to the missing values in Pneumonia Deaths colum"
      ],
      "metadata": {
        "id": "wICzQ_V4Sy7U"
      }
    },
    {
      "cell_type": "markdown",
      "source": [
        "Task15: Computing mean value Pneumonia and COVID-19 Deaths to the missing values in Pneumonia and COVID-19 Deaths colum"
      ],
      "metadata": {
        "id": "7UPeENSPS0lr"
      }
    },
    {
      "cell_type": "markdown",
      "source": [
        "Task16: Computing mean value Influenza Deaths to the missing values in Influenza Deaths colum"
      ],
      "metadata": {
        "id": "AxKDG3OQS3i5"
      }
    },
    {
      "cell_type": "markdown",
      "source": [
        "Task17: Computing mean value Pneumonia, Influenza, or COVID-19 Deaths to the missing values in Pneumonia, Influenza, or COVID-19 Deaths colum"
      ],
      "metadata": {
        "id": "u75tUyArS5Rg"
      }
    },
    {
      "cell_type": "markdown",
      "source": [
        "Task18: To calculate the mean of Total Deaths and report"
      ],
      "metadata": {
        "id": "qNaP6xiES6nN"
      }
    },
    {
      "cell_type": "markdown",
      "source": [
        "Task19: To calculate for median of COVID-19 Deaths colum and report"
      ],
      "metadata": {
        "id": "YlVeTkZWS9C8"
      }
    },
    {
      "cell_type": "markdown",
      "source": [
        "Task20: Calculating for the mode of the Sex with higher death occurance"
      ],
      "metadata": {
        "id": "i3Dm3eTiTBYa"
      }
    },
    {
      "cell_type": "markdown",
      "source": [
        "Task21: To calculate the range of Influenza Deaths in the dataset"
      ],
      "metadata": {
        "id": "mR6TseLbTC6U"
      }
    },
    {
      "cell_type": "markdown",
      "source": [
        "Task22: To calculate the variance of Influenza Death spread of the dataset"
      ],
      "metadata": {
        "id": "9f2Evuc_TEc2"
      }
    },
    {
      "cell_type": "markdown",
      "source": [
        "Task23: To calculate the Standard Deviation of Influenza Death , Deviation score the dataset"
      ],
      "metadata": {
        "id": "2rn7d8emTGCH"
      }
    },
    {
      "cell_type": "markdown",
      "source": [
        "Task24: To calculate the PMF of Influenza Death , the mass function value"
      ],
      "metadata": {
        "id": "pgDuS9RkTP1V"
      }
    },
    {
      "cell_type": "markdown",
      "source": [
        "Task25: To calculate the PDF of Influenza Death , the distribution influenza death function values"
      ],
      "metadata": {
        "id": "3LzggNN2Zage"
      }
    },
    {
      "cell_type": "markdown",
      "source": [
        "#Task1"
      ],
      "metadata": {
        "id": "2keywaxk8mhg"
      }
    },
    {
      "cell_type": "markdown",
      "source": [
        "#Problem Statement(Aim):"
      ],
      "metadata": {
        "id": "g4FUVtoVZ2Bd"
      }
    },
    {
      "cell_type": "markdown",
      "source": [
        "Data Analysis for Provisional_COVID-19_Deaths_by_Sex_and_Age.  As a Data Scientist i want to calculate the mean of 'Total Deaths', the median of 'COVID-19 Deaths', the mode of the 'Sex' with higher death occurance, range of 'Influenza Deaths', the variance of 'Influenza Death' spread of the dataset, the Standard Deviation of 'Influenza Death' Deviation score, the PMF(probability mass function) of 'Influenza Death' mass function, the PDF(probability density function) of 'Influenza Death' and visualize the distributions of the dataset to derive useful insight from 'Provisional_COVID-19_Deaths_by_Sex_and_Age' data."
      ],
      "metadata": {
        "id": "9pvHZQ0U8wnR"
      }
    },
    {
      "cell_type": "markdown",
      "source": [
        "#Task2"
      ],
      "metadata": {
        "id": "piw9je0X8qXO"
      }
    },
    {
      "cell_type": "markdown",
      "source": [
        "#Importing libraries"
      ],
      "metadata": {
        "id": "h088ZtC490n3"
      }
    },
    {
      "cell_type": "code",
      "execution_count": 2,
      "metadata": {
        "id": "XUhQdDBo6IN_"
      },
      "outputs": [],
      "source": [
        "import pandas as pd\n",
        "import numpy as np\n",
        "%matplotlib inline\n",
        "import matplotlib.pyplot as plt\n",
        "import seaborn as sns\n",
        "import statistics"
      ]
    },
    {
      "cell_type": "markdown",
      "source": [
        "#Task3"
      ],
      "metadata": {
        "id": "8MHh-OVJ940R"
      }
    },
    {
      "cell_type": "markdown",
      "source": [
        "#Loading data from my google drive, i used 'COLAB' for my python programming"
      ],
      "metadata": {
        "id": "A6dKKIq_-BvF"
      }
    },
    {
      "cell_type": "code",
      "source": [
        "from google.colab import drive\n",
        "drive.mount('/content/drive')"
      ],
      "metadata": {
        "colab": {
          "base_uri": "https://localhost:8080/"
        },
        "id": "XklMJdEE7ORE",
        "outputId": "2a5b5021-ba7b-4418-ad44-f6b8c52e4a43"
      },
      "execution_count": 3,
      "outputs": [
        {
          "output_type": "stream",
          "name": "stdout",
          "text": [
            "Mounted at /content/drive\n"
          ]
        }
      ]
    },
    {
      "cell_type": "code",
      "source": [
        "df= pd.read_csv(r'/content/drive/MyDrive/mathematics dataset/Provisional_COVID-19_Deaths_by_Sex_and_Age.csv')"
      ],
      "metadata": {
        "id": "imqCI5wH7guk"
      },
      "execution_count": 4,
      "outputs": []
    },
    {
      "cell_type": "markdown",
      "source": [
        "#Task4"
      ],
      "metadata": {
        "id": "3T8rf-K_-yIh"
      }
    },
    {
      "cell_type": "markdown",
      "source": [
        "#Viewing the data, the head view of the 1st 5 rows of the data"
      ],
      "metadata": {
        "id": "wRg6JP-V-_st"
      }
    },
    {
      "cell_type": "code",
      "source": [
        "df.head()"
      ],
      "metadata": {
        "colab": {
          "base_uri": "https://localhost:8080/",
          "height": 300
        },
        "id": "4sur8w4J734e",
        "outputId": "957d3dda-d85b-4674-8102-abb2bb16f185"
      },
      "execution_count": 5,
      "outputs": [
        {
          "output_type": "execute_result",
          "data": {
            "text/plain": [
              "   Data As Of  Start Date    End Date     Group  Year  Month          State  \\\n",
              "0  11/09/2022  01/01/2020  11/05/2022  By Total   NaN    NaN  United States   \n",
              "1  11/09/2022  01/01/2020  11/05/2022  By Total   NaN    NaN  United States   \n",
              "2  11/09/2022  01/01/2020  11/05/2022  By Total   NaN    NaN  United States   \n",
              "3  11/09/2022  01/01/2020  11/05/2022  By Total   NaN    NaN  United States   \n",
              "4  11/09/2022  01/01/2020  11/05/2022  By Total   NaN    NaN  United States   \n",
              "\n",
              "         Sex     Age Group  COVID-19 Deaths  Total Deaths  Pneumonia Deaths  \\\n",
              "0  All Sexes      All Ages        1067539.0     9521311.0          987383.0   \n",
              "1  All Sexes  Under 1 year            380.0       55203.0             740.0   \n",
              "2  All Sexes    0-17 years           1350.0       98109.0            2043.0   \n",
              "3  All Sexes     1-4 years            202.0       10536.0             434.0   \n",
              "4  All Sexes    5-14 years            423.0       16461.0             569.0   \n",
              "\n",
              "   Pneumonia and COVID-19 Deaths  Influenza Deaths  \\\n",
              "0                       540649.0           12621.0   \n",
              "1                           62.0              43.0   \n",
              "2                          343.0             270.0   \n",
              "3                           48.0              89.0   \n",
              "4                          121.0             110.0   \n",
              "\n",
              "   Pneumonia, Influenza, or COVID-19 Deaths Footnote  \n",
              "0                                 1525057.0      NaN  \n",
              "1                                    1099.0      NaN  \n",
              "2                                    3306.0      NaN  \n",
              "3                                     673.0      NaN  \n",
              "4                                     974.0      NaN  "
            ],
            "text/html": [
              "\n",
              "  <div id=\"df-2c899ca1-f7e5-476a-ac00-b6ea03718f0f\" class=\"colab-df-container\">\n",
              "    <div>\n",
              "<style scoped>\n",
              "    .dataframe tbody tr th:only-of-type {\n",
              "        vertical-align: middle;\n",
              "    }\n",
              "\n",
              "    .dataframe tbody tr th {\n",
              "        vertical-align: top;\n",
              "    }\n",
              "\n",
              "    .dataframe thead th {\n",
              "        text-align: right;\n",
              "    }\n",
              "</style>\n",
              "<table border=\"1\" class=\"dataframe\">\n",
              "  <thead>\n",
              "    <tr style=\"text-align: right;\">\n",
              "      <th></th>\n",
              "      <th>Data As Of</th>\n",
              "      <th>Start Date</th>\n",
              "      <th>End Date</th>\n",
              "      <th>Group</th>\n",
              "      <th>Year</th>\n",
              "      <th>Month</th>\n",
              "      <th>State</th>\n",
              "      <th>Sex</th>\n",
              "      <th>Age Group</th>\n",
              "      <th>COVID-19 Deaths</th>\n",
              "      <th>Total Deaths</th>\n",
              "      <th>Pneumonia Deaths</th>\n",
              "      <th>Pneumonia and COVID-19 Deaths</th>\n",
              "      <th>Influenza Deaths</th>\n",
              "      <th>Pneumonia, Influenza, or COVID-19 Deaths</th>\n",
              "      <th>Footnote</th>\n",
              "    </tr>\n",
              "  </thead>\n",
              "  <tbody>\n",
              "    <tr>\n",
              "      <th>0</th>\n",
              "      <td>11/09/2022</td>\n",
              "      <td>01/01/2020</td>\n",
              "      <td>11/05/2022</td>\n",
              "      <td>By Total</td>\n",
              "      <td>NaN</td>\n",
              "      <td>NaN</td>\n",
              "      <td>United States</td>\n",
              "      <td>All Sexes</td>\n",
              "      <td>All Ages</td>\n",
              "      <td>1067539.0</td>\n",
              "      <td>9521311.0</td>\n",
              "      <td>987383.0</td>\n",
              "      <td>540649.0</td>\n",
              "      <td>12621.0</td>\n",
              "      <td>1525057.0</td>\n",
              "      <td>NaN</td>\n",
              "    </tr>\n",
              "    <tr>\n",
              "      <th>1</th>\n",
              "      <td>11/09/2022</td>\n",
              "      <td>01/01/2020</td>\n",
              "      <td>11/05/2022</td>\n",
              "      <td>By Total</td>\n",
              "      <td>NaN</td>\n",
              "      <td>NaN</td>\n",
              "      <td>United States</td>\n",
              "      <td>All Sexes</td>\n",
              "      <td>Under 1 year</td>\n",
              "      <td>380.0</td>\n",
              "      <td>55203.0</td>\n",
              "      <td>740.0</td>\n",
              "      <td>62.0</td>\n",
              "      <td>43.0</td>\n",
              "      <td>1099.0</td>\n",
              "      <td>NaN</td>\n",
              "    </tr>\n",
              "    <tr>\n",
              "      <th>2</th>\n",
              "      <td>11/09/2022</td>\n",
              "      <td>01/01/2020</td>\n",
              "      <td>11/05/2022</td>\n",
              "      <td>By Total</td>\n",
              "      <td>NaN</td>\n",
              "      <td>NaN</td>\n",
              "      <td>United States</td>\n",
              "      <td>All Sexes</td>\n",
              "      <td>0-17 years</td>\n",
              "      <td>1350.0</td>\n",
              "      <td>98109.0</td>\n",
              "      <td>2043.0</td>\n",
              "      <td>343.0</td>\n",
              "      <td>270.0</td>\n",
              "      <td>3306.0</td>\n",
              "      <td>NaN</td>\n",
              "    </tr>\n",
              "    <tr>\n",
              "      <th>3</th>\n",
              "      <td>11/09/2022</td>\n",
              "      <td>01/01/2020</td>\n",
              "      <td>11/05/2022</td>\n",
              "      <td>By Total</td>\n",
              "      <td>NaN</td>\n",
              "      <td>NaN</td>\n",
              "      <td>United States</td>\n",
              "      <td>All Sexes</td>\n",
              "      <td>1-4 years</td>\n",
              "      <td>202.0</td>\n",
              "      <td>10536.0</td>\n",
              "      <td>434.0</td>\n",
              "      <td>48.0</td>\n",
              "      <td>89.0</td>\n",
              "      <td>673.0</td>\n",
              "      <td>NaN</td>\n",
              "    </tr>\n",
              "    <tr>\n",
              "      <th>4</th>\n",
              "      <td>11/09/2022</td>\n",
              "      <td>01/01/2020</td>\n",
              "      <td>11/05/2022</td>\n",
              "      <td>By Total</td>\n",
              "      <td>NaN</td>\n",
              "      <td>NaN</td>\n",
              "      <td>United States</td>\n",
              "      <td>All Sexes</td>\n",
              "      <td>5-14 years</td>\n",
              "      <td>423.0</td>\n",
              "      <td>16461.0</td>\n",
              "      <td>569.0</td>\n",
              "      <td>121.0</td>\n",
              "      <td>110.0</td>\n",
              "      <td>974.0</td>\n",
              "      <td>NaN</td>\n",
              "    </tr>\n",
              "  </tbody>\n",
              "</table>\n",
              "</div>\n",
              "    <div class=\"colab-df-buttons\">\n",
              "\n",
              "  <div class=\"colab-df-container\">\n",
              "    <button class=\"colab-df-convert\" onclick=\"convertToInteractive('df-2c899ca1-f7e5-476a-ac00-b6ea03718f0f')\"\n",
              "            title=\"Convert this dataframe to an interactive table.\"\n",
              "            style=\"display:none;\">\n",
              "\n",
              "  <svg xmlns=\"http://www.w3.org/2000/svg\" height=\"24px\" viewBox=\"0 -960 960 960\">\n",
              "    <path d=\"M120-120v-720h720v720H120Zm60-500h600v-160H180v160Zm220 220h160v-160H400v160Zm0 220h160v-160H400v160ZM180-400h160v-160H180v160Zm440 0h160v-160H620v160ZM180-180h160v-160H180v160Zm440 0h160v-160H620v160Z\"/>\n",
              "  </svg>\n",
              "    </button>\n",
              "\n",
              "  <style>\n",
              "    .colab-df-container {\n",
              "      display:flex;\n",
              "      gap: 12px;\n",
              "    }\n",
              "\n",
              "    .colab-df-convert {\n",
              "      background-color: #E8F0FE;\n",
              "      border: none;\n",
              "      border-radius: 50%;\n",
              "      cursor: pointer;\n",
              "      display: none;\n",
              "      fill: #1967D2;\n",
              "      height: 32px;\n",
              "      padding: 0 0 0 0;\n",
              "      width: 32px;\n",
              "    }\n",
              "\n",
              "    .colab-df-convert:hover {\n",
              "      background-color: #E2EBFA;\n",
              "      box-shadow: 0px 1px 2px rgba(60, 64, 67, 0.3), 0px 1px 3px 1px rgba(60, 64, 67, 0.15);\n",
              "      fill: #174EA6;\n",
              "    }\n",
              "\n",
              "    .colab-df-buttons div {\n",
              "      margin-bottom: 4px;\n",
              "    }\n",
              "\n",
              "    [theme=dark] .colab-df-convert {\n",
              "      background-color: #3B4455;\n",
              "      fill: #D2E3FC;\n",
              "    }\n",
              "\n",
              "    [theme=dark] .colab-df-convert:hover {\n",
              "      background-color: #434B5C;\n",
              "      box-shadow: 0px 1px 3px 1px rgba(0, 0, 0, 0.15);\n",
              "      filter: drop-shadow(0px 1px 2px rgba(0, 0, 0, 0.3));\n",
              "      fill: #FFFFFF;\n",
              "    }\n",
              "  </style>\n",
              "\n",
              "    <script>\n",
              "      const buttonEl =\n",
              "        document.querySelector('#df-2c899ca1-f7e5-476a-ac00-b6ea03718f0f button.colab-df-convert');\n",
              "      buttonEl.style.display =\n",
              "        google.colab.kernel.accessAllowed ? 'block' : 'none';\n",
              "\n",
              "      async function convertToInteractive(key) {\n",
              "        const element = document.querySelector('#df-2c899ca1-f7e5-476a-ac00-b6ea03718f0f');\n",
              "        const dataTable =\n",
              "          await google.colab.kernel.invokeFunction('convertToInteractive',\n",
              "                                                    [key], {});\n",
              "        if (!dataTable) return;\n",
              "\n",
              "        const docLinkHtml = 'Like what you see? Visit the ' +\n",
              "          '<a target=\"_blank\" href=https://colab.research.google.com/notebooks/data_table.ipynb>data table notebook</a>'\n",
              "          + ' to learn more about interactive tables.';\n",
              "        element.innerHTML = '';\n",
              "        dataTable['output_type'] = 'display_data';\n",
              "        await google.colab.output.renderOutput(dataTable, element);\n",
              "        const docLink = document.createElement('div');\n",
              "        docLink.innerHTML = docLinkHtml;\n",
              "        element.appendChild(docLink);\n",
              "      }\n",
              "    </script>\n",
              "  </div>\n",
              "\n",
              "\n",
              "<div id=\"df-a99704a2-3ec3-489e-907c-0535c326cf1f\">\n",
              "  <button class=\"colab-df-quickchart\" onclick=\"quickchart('df-a99704a2-3ec3-489e-907c-0535c326cf1f')\"\n",
              "            title=\"Suggest charts\"\n",
              "            style=\"display:none;\">\n",
              "\n",
              "<svg xmlns=\"http://www.w3.org/2000/svg\" height=\"24px\"viewBox=\"0 0 24 24\"\n",
              "     width=\"24px\">\n",
              "    <g>\n",
              "        <path d=\"M19 3H5c-1.1 0-2 .9-2 2v14c0 1.1.9 2 2 2h14c1.1 0 2-.9 2-2V5c0-1.1-.9-2-2-2zM9 17H7v-7h2v7zm4 0h-2V7h2v10zm4 0h-2v-4h2v4z\"/>\n",
              "    </g>\n",
              "</svg>\n",
              "  </button>\n",
              "\n",
              "<style>\n",
              "  .colab-df-quickchart {\n",
              "      --bg-color: #E8F0FE;\n",
              "      --fill-color: #1967D2;\n",
              "      --hover-bg-color: #E2EBFA;\n",
              "      --hover-fill-color: #174EA6;\n",
              "      --disabled-fill-color: #AAA;\n",
              "      --disabled-bg-color: #DDD;\n",
              "  }\n",
              "\n",
              "  [theme=dark] .colab-df-quickchart {\n",
              "      --bg-color: #3B4455;\n",
              "      --fill-color: #D2E3FC;\n",
              "      --hover-bg-color: #434B5C;\n",
              "      --hover-fill-color: #FFFFFF;\n",
              "      --disabled-bg-color: #3B4455;\n",
              "      --disabled-fill-color: #666;\n",
              "  }\n",
              "\n",
              "  .colab-df-quickchart {\n",
              "    background-color: var(--bg-color);\n",
              "    border: none;\n",
              "    border-radius: 50%;\n",
              "    cursor: pointer;\n",
              "    display: none;\n",
              "    fill: var(--fill-color);\n",
              "    height: 32px;\n",
              "    padding: 0;\n",
              "    width: 32px;\n",
              "  }\n",
              "\n",
              "  .colab-df-quickchart:hover {\n",
              "    background-color: var(--hover-bg-color);\n",
              "    box-shadow: 0 1px 2px rgba(60, 64, 67, 0.3), 0 1px 3px 1px rgba(60, 64, 67, 0.15);\n",
              "    fill: var(--button-hover-fill-color);\n",
              "  }\n",
              "\n",
              "  .colab-df-quickchart-complete:disabled,\n",
              "  .colab-df-quickchart-complete:disabled:hover {\n",
              "    background-color: var(--disabled-bg-color);\n",
              "    fill: var(--disabled-fill-color);\n",
              "    box-shadow: none;\n",
              "  }\n",
              "\n",
              "  .colab-df-spinner {\n",
              "    border: 2px solid var(--fill-color);\n",
              "    border-color: transparent;\n",
              "    border-bottom-color: var(--fill-color);\n",
              "    animation:\n",
              "      spin 1s steps(1) infinite;\n",
              "  }\n",
              "\n",
              "  @keyframes spin {\n",
              "    0% {\n",
              "      border-color: transparent;\n",
              "      border-bottom-color: var(--fill-color);\n",
              "      border-left-color: var(--fill-color);\n",
              "    }\n",
              "    20% {\n",
              "      border-color: transparent;\n",
              "      border-left-color: var(--fill-color);\n",
              "      border-top-color: var(--fill-color);\n",
              "    }\n",
              "    30% {\n",
              "      border-color: transparent;\n",
              "      border-left-color: var(--fill-color);\n",
              "      border-top-color: var(--fill-color);\n",
              "      border-right-color: var(--fill-color);\n",
              "    }\n",
              "    40% {\n",
              "      border-color: transparent;\n",
              "      border-right-color: var(--fill-color);\n",
              "      border-top-color: var(--fill-color);\n",
              "    }\n",
              "    60% {\n",
              "      border-color: transparent;\n",
              "      border-right-color: var(--fill-color);\n",
              "    }\n",
              "    80% {\n",
              "      border-color: transparent;\n",
              "      border-right-color: var(--fill-color);\n",
              "      border-bottom-color: var(--fill-color);\n",
              "    }\n",
              "    90% {\n",
              "      border-color: transparent;\n",
              "      border-bottom-color: var(--fill-color);\n",
              "    }\n",
              "  }\n",
              "</style>\n",
              "\n",
              "  <script>\n",
              "    async function quickchart(key) {\n",
              "      const quickchartButtonEl =\n",
              "        document.querySelector('#' + key + ' button');\n",
              "      quickchartButtonEl.disabled = true;  // To prevent multiple clicks.\n",
              "      quickchartButtonEl.classList.add('colab-df-spinner');\n",
              "      try {\n",
              "        const charts = await google.colab.kernel.invokeFunction(\n",
              "            'suggestCharts', [key], {});\n",
              "      } catch (error) {\n",
              "        console.error('Error during call to suggestCharts:', error);\n",
              "      }\n",
              "      quickchartButtonEl.classList.remove('colab-df-spinner');\n",
              "      quickchartButtonEl.classList.add('colab-df-quickchart-complete');\n",
              "    }\n",
              "    (() => {\n",
              "      let quickchartButtonEl =\n",
              "        document.querySelector('#df-a99704a2-3ec3-489e-907c-0535c326cf1f button');\n",
              "      quickchartButtonEl.style.display =\n",
              "        google.colab.kernel.accessAllowed ? 'block' : 'none';\n",
              "    })();\n",
              "  </script>\n",
              "</div>\n",
              "    </div>\n",
              "  </div>\n"
            ]
          },
          "metadata": {},
          "execution_count": 5
        }
      ]
    },
    {
      "cell_type": "markdown",
      "source": [
        "#Task5"
      ],
      "metadata": {
        "id": "-Q84JOIx_RbA"
      }
    },
    {
      "cell_type": "markdown",
      "source": [
        "#Viewing the data, the bottom view of the 1st 5 rows of the train data"
      ],
      "metadata": {
        "id": "zyITNzbQ_Wm6"
      }
    },
    {
      "cell_type": "code",
      "source": [
        "df.tail()"
      ],
      "metadata": {
        "colab": {
          "base_uri": "https://localhost:8080/",
          "height": 316
        },
        "id": "xV7DWStD8DBW",
        "outputId": "c2ec0f5d-8a86-45ad-876d-e1d5cd49e25b"
      },
      "execution_count": 6,
      "outputs": [
        {
          "output_type": "execute_result",
          "data": {
            "text/plain": [
              "        Data As Of  Start Date    End Date     Group    Year  Month  \\\n",
              "107401  11/09/2022  11/01/2022  11/05/2022  By Month  2022.0   11.0   \n",
              "107402  11/09/2022  11/01/2022  11/05/2022  By Month  2022.0   11.0   \n",
              "107403  11/09/2022  11/01/2022  11/05/2022  By Month  2022.0   11.0   \n",
              "107404  11/09/2022  11/01/2022  11/05/2022  By Month  2022.0   11.0   \n",
              "107405  11/09/2022  11/01/2022  11/05/2022  By Month  2022.0   11.0   \n",
              "\n",
              "              State     Sex          Age Group  COVID-19 Deaths  Total Deaths  \\\n",
              "107401  Puerto Rico  Female        50-64 years              0.0           NaN   \n",
              "107402  Puerto Rico  Female        55-64 years              0.0           NaN   \n",
              "107403  Puerto Rico  Female        65-74 years              0.0          12.0   \n",
              "107404  Puerto Rico  Female        75-84 years              NaN          15.0   \n",
              "107405  Puerto Rico  Female  85 years and over              NaN          11.0   \n",
              "\n",
              "        Pneumonia Deaths  Pneumonia and COVID-19 Deaths  Influenza Deaths  \\\n",
              "107401               0.0                            0.0               0.0   \n",
              "107402               0.0                            0.0               0.0   \n",
              "107403               NaN                            0.0               0.0   \n",
              "107404               NaN                            0.0               0.0   \n",
              "107405               NaN                            NaN               NaN   \n",
              "\n",
              "        Pneumonia, Influenza, or COVID-19 Deaths  \\\n",
              "107401                                       0.0   \n",
              "107402                                       0.0   \n",
              "107403                                       NaN   \n",
              "107404                                       NaN   \n",
              "107405                                       NaN   \n",
              "\n",
              "                                                 Footnote  \n",
              "107401  One or more data cells have counts between 1-9...  \n",
              "107402  One or more data cells have counts between 1-9...  \n",
              "107403  One or more data cells have counts between 1-9...  \n",
              "107404  One or more data cells have counts between 1-9...  \n",
              "107405  One or more data cells have counts between 1-9...  "
            ],
            "text/html": [
              "\n",
              "  <div id=\"df-326cccf6-cd9a-4664-9dfc-b281c086136b\" class=\"colab-df-container\">\n",
              "    <div>\n",
              "<style scoped>\n",
              "    .dataframe tbody tr th:only-of-type {\n",
              "        vertical-align: middle;\n",
              "    }\n",
              "\n",
              "    .dataframe tbody tr th {\n",
              "        vertical-align: top;\n",
              "    }\n",
              "\n",
              "    .dataframe thead th {\n",
              "        text-align: right;\n",
              "    }\n",
              "</style>\n",
              "<table border=\"1\" class=\"dataframe\">\n",
              "  <thead>\n",
              "    <tr style=\"text-align: right;\">\n",
              "      <th></th>\n",
              "      <th>Data As Of</th>\n",
              "      <th>Start Date</th>\n",
              "      <th>End Date</th>\n",
              "      <th>Group</th>\n",
              "      <th>Year</th>\n",
              "      <th>Month</th>\n",
              "      <th>State</th>\n",
              "      <th>Sex</th>\n",
              "      <th>Age Group</th>\n",
              "      <th>COVID-19 Deaths</th>\n",
              "      <th>Total Deaths</th>\n",
              "      <th>Pneumonia Deaths</th>\n",
              "      <th>Pneumonia and COVID-19 Deaths</th>\n",
              "      <th>Influenza Deaths</th>\n",
              "      <th>Pneumonia, Influenza, or COVID-19 Deaths</th>\n",
              "      <th>Footnote</th>\n",
              "    </tr>\n",
              "  </thead>\n",
              "  <tbody>\n",
              "    <tr>\n",
              "      <th>107401</th>\n",
              "      <td>11/09/2022</td>\n",
              "      <td>11/01/2022</td>\n",
              "      <td>11/05/2022</td>\n",
              "      <td>By Month</td>\n",
              "      <td>2022.0</td>\n",
              "      <td>11.0</td>\n",
              "      <td>Puerto Rico</td>\n",
              "      <td>Female</td>\n",
              "      <td>50-64 years</td>\n",
              "      <td>0.0</td>\n",
              "      <td>NaN</td>\n",
              "      <td>0.0</td>\n",
              "      <td>0.0</td>\n",
              "      <td>0.0</td>\n",
              "      <td>0.0</td>\n",
              "      <td>One or more data cells have counts between 1-9...</td>\n",
              "    </tr>\n",
              "    <tr>\n",
              "      <th>107402</th>\n",
              "      <td>11/09/2022</td>\n",
              "      <td>11/01/2022</td>\n",
              "      <td>11/05/2022</td>\n",
              "      <td>By Month</td>\n",
              "      <td>2022.0</td>\n",
              "      <td>11.0</td>\n",
              "      <td>Puerto Rico</td>\n",
              "      <td>Female</td>\n",
              "      <td>55-64 years</td>\n",
              "      <td>0.0</td>\n",
              "      <td>NaN</td>\n",
              "      <td>0.0</td>\n",
              "      <td>0.0</td>\n",
              "      <td>0.0</td>\n",
              "      <td>0.0</td>\n",
              "      <td>One or more data cells have counts between 1-9...</td>\n",
              "    </tr>\n",
              "    <tr>\n",
              "      <th>107403</th>\n",
              "      <td>11/09/2022</td>\n",
              "      <td>11/01/2022</td>\n",
              "      <td>11/05/2022</td>\n",
              "      <td>By Month</td>\n",
              "      <td>2022.0</td>\n",
              "      <td>11.0</td>\n",
              "      <td>Puerto Rico</td>\n",
              "      <td>Female</td>\n",
              "      <td>65-74 years</td>\n",
              "      <td>0.0</td>\n",
              "      <td>12.0</td>\n",
              "      <td>NaN</td>\n",
              "      <td>0.0</td>\n",
              "      <td>0.0</td>\n",
              "      <td>NaN</td>\n",
              "      <td>One or more data cells have counts between 1-9...</td>\n",
              "    </tr>\n",
              "    <tr>\n",
              "      <th>107404</th>\n",
              "      <td>11/09/2022</td>\n",
              "      <td>11/01/2022</td>\n",
              "      <td>11/05/2022</td>\n",
              "      <td>By Month</td>\n",
              "      <td>2022.0</td>\n",
              "      <td>11.0</td>\n",
              "      <td>Puerto Rico</td>\n",
              "      <td>Female</td>\n",
              "      <td>75-84 years</td>\n",
              "      <td>NaN</td>\n",
              "      <td>15.0</td>\n",
              "      <td>NaN</td>\n",
              "      <td>0.0</td>\n",
              "      <td>0.0</td>\n",
              "      <td>NaN</td>\n",
              "      <td>One or more data cells have counts between 1-9...</td>\n",
              "    </tr>\n",
              "    <tr>\n",
              "      <th>107405</th>\n",
              "      <td>11/09/2022</td>\n",
              "      <td>11/01/2022</td>\n",
              "      <td>11/05/2022</td>\n",
              "      <td>By Month</td>\n",
              "      <td>2022.0</td>\n",
              "      <td>11.0</td>\n",
              "      <td>Puerto Rico</td>\n",
              "      <td>Female</td>\n",
              "      <td>85 years and over</td>\n",
              "      <td>NaN</td>\n",
              "      <td>11.0</td>\n",
              "      <td>NaN</td>\n",
              "      <td>NaN</td>\n",
              "      <td>NaN</td>\n",
              "      <td>NaN</td>\n",
              "      <td>One or more data cells have counts between 1-9...</td>\n",
              "    </tr>\n",
              "  </tbody>\n",
              "</table>\n",
              "</div>\n",
              "    <div class=\"colab-df-buttons\">\n",
              "\n",
              "  <div class=\"colab-df-container\">\n",
              "    <button class=\"colab-df-convert\" onclick=\"convertToInteractive('df-326cccf6-cd9a-4664-9dfc-b281c086136b')\"\n",
              "            title=\"Convert this dataframe to an interactive table.\"\n",
              "            style=\"display:none;\">\n",
              "\n",
              "  <svg xmlns=\"http://www.w3.org/2000/svg\" height=\"24px\" viewBox=\"0 -960 960 960\">\n",
              "    <path d=\"M120-120v-720h720v720H120Zm60-500h600v-160H180v160Zm220 220h160v-160H400v160Zm0 220h160v-160H400v160ZM180-400h160v-160H180v160Zm440 0h160v-160H620v160ZM180-180h160v-160H180v160Zm440 0h160v-160H620v160Z\"/>\n",
              "  </svg>\n",
              "    </button>\n",
              "\n",
              "  <style>\n",
              "    .colab-df-container {\n",
              "      display:flex;\n",
              "      gap: 12px;\n",
              "    }\n",
              "\n",
              "    .colab-df-convert {\n",
              "      background-color: #E8F0FE;\n",
              "      border: none;\n",
              "      border-radius: 50%;\n",
              "      cursor: pointer;\n",
              "      display: none;\n",
              "      fill: #1967D2;\n",
              "      height: 32px;\n",
              "      padding: 0 0 0 0;\n",
              "      width: 32px;\n",
              "    }\n",
              "\n",
              "    .colab-df-convert:hover {\n",
              "      background-color: #E2EBFA;\n",
              "      box-shadow: 0px 1px 2px rgba(60, 64, 67, 0.3), 0px 1px 3px 1px rgba(60, 64, 67, 0.15);\n",
              "      fill: #174EA6;\n",
              "    }\n",
              "\n",
              "    .colab-df-buttons div {\n",
              "      margin-bottom: 4px;\n",
              "    }\n",
              "\n",
              "    [theme=dark] .colab-df-convert {\n",
              "      background-color: #3B4455;\n",
              "      fill: #D2E3FC;\n",
              "    }\n",
              "\n",
              "    [theme=dark] .colab-df-convert:hover {\n",
              "      background-color: #434B5C;\n",
              "      box-shadow: 0px 1px 3px 1px rgba(0, 0, 0, 0.15);\n",
              "      filter: drop-shadow(0px 1px 2px rgba(0, 0, 0, 0.3));\n",
              "      fill: #FFFFFF;\n",
              "    }\n",
              "  </style>\n",
              "\n",
              "    <script>\n",
              "      const buttonEl =\n",
              "        document.querySelector('#df-326cccf6-cd9a-4664-9dfc-b281c086136b button.colab-df-convert');\n",
              "      buttonEl.style.display =\n",
              "        google.colab.kernel.accessAllowed ? 'block' : 'none';\n",
              "\n",
              "      async function convertToInteractive(key) {\n",
              "        const element = document.querySelector('#df-326cccf6-cd9a-4664-9dfc-b281c086136b');\n",
              "        const dataTable =\n",
              "          await google.colab.kernel.invokeFunction('convertToInteractive',\n",
              "                                                    [key], {});\n",
              "        if (!dataTable) return;\n",
              "\n",
              "        const docLinkHtml = 'Like what you see? Visit the ' +\n",
              "          '<a target=\"_blank\" href=https://colab.research.google.com/notebooks/data_table.ipynb>data table notebook</a>'\n",
              "          + ' to learn more about interactive tables.';\n",
              "        element.innerHTML = '';\n",
              "        dataTable['output_type'] = 'display_data';\n",
              "        await google.colab.output.renderOutput(dataTable, element);\n",
              "        const docLink = document.createElement('div');\n",
              "        docLink.innerHTML = docLinkHtml;\n",
              "        element.appendChild(docLink);\n",
              "      }\n",
              "    </script>\n",
              "  </div>\n",
              "\n",
              "\n",
              "<div id=\"df-6511f590-1453-421d-9489-6db41c6308f4\">\n",
              "  <button class=\"colab-df-quickchart\" onclick=\"quickchart('df-6511f590-1453-421d-9489-6db41c6308f4')\"\n",
              "            title=\"Suggest charts\"\n",
              "            style=\"display:none;\">\n",
              "\n",
              "<svg xmlns=\"http://www.w3.org/2000/svg\" height=\"24px\"viewBox=\"0 0 24 24\"\n",
              "     width=\"24px\">\n",
              "    <g>\n",
              "        <path d=\"M19 3H5c-1.1 0-2 .9-2 2v14c0 1.1.9 2 2 2h14c1.1 0 2-.9 2-2V5c0-1.1-.9-2-2-2zM9 17H7v-7h2v7zm4 0h-2V7h2v10zm4 0h-2v-4h2v4z\"/>\n",
              "    </g>\n",
              "</svg>\n",
              "  </button>\n",
              "\n",
              "<style>\n",
              "  .colab-df-quickchart {\n",
              "      --bg-color: #E8F0FE;\n",
              "      --fill-color: #1967D2;\n",
              "      --hover-bg-color: #E2EBFA;\n",
              "      --hover-fill-color: #174EA6;\n",
              "      --disabled-fill-color: #AAA;\n",
              "      --disabled-bg-color: #DDD;\n",
              "  }\n",
              "\n",
              "  [theme=dark] .colab-df-quickchart {\n",
              "      --bg-color: #3B4455;\n",
              "      --fill-color: #D2E3FC;\n",
              "      --hover-bg-color: #434B5C;\n",
              "      --hover-fill-color: #FFFFFF;\n",
              "      --disabled-bg-color: #3B4455;\n",
              "      --disabled-fill-color: #666;\n",
              "  }\n",
              "\n",
              "  .colab-df-quickchart {\n",
              "    background-color: var(--bg-color);\n",
              "    border: none;\n",
              "    border-radius: 50%;\n",
              "    cursor: pointer;\n",
              "    display: none;\n",
              "    fill: var(--fill-color);\n",
              "    height: 32px;\n",
              "    padding: 0;\n",
              "    width: 32px;\n",
              "  }\n",
              "\n",
              "  .colab-df-quickchart:hover {\n",
              "    background-color: var(--hover-bg-color);\n",
              "    box-shadow: 0 1px 2px rgba(60, 64, 67, 0.3), 0 1px 3px 1px rgba(60, 64, 67, 0.15);\n",
              "    fill: var(--button-hover-fill-color);\n",
              "  }\n",
              "\n",
              "  .colab-df-quickchart-complete:disabled,\n",
              "  .colab-df-quickchart-complete:disabled:hover {\n",
              "    background-color: var(--disabled-bg-color);\n",
              "    fill: var(--disabled-fill-color);\n",
              "    box-shadow: none;\n",
              "  }\n",
              "\n",
              "  .colab-df-spinner {\n",
              "    border: 2px solid var(--fill-color);\n",
              "    border-color: transparent;\n",
              "    border-bottom-color: var(--fill-color);\n",
              "    animation:\n",
              "      spin 1s steps(1) infinite;\n",
              "  }\n",
              "\n",
              "  @keyframes spin {\n",
              "    0% {\n",
              "      border-color: transparent;\n",
              "      border-bottom-color: var(--fill-color);\n",
              "      border-left-color: var(--fill-color);\n",
              "    }\n",
              "    20% {\n",
              "      border-color: transparent;\n",
              "      border-left-color: var(--fill-color);\n",
              "      border-top-color: var(--fill-color);\n",
              "    }\n",
              "    30% {\n",
              "      border-color: transparent;\n",
              "      border-left-color: var(--fill-color);\n",
              "      border-top-color: var(--fill-color);\n",
              "      border-right-color: var(--fill-color);\n",
              "    }\n",
              "    40% {\n",
              "      border-color: transparent;\n",
              "      border-right-color: var(--fill-color);\n",
              "      border-top-color: var(--fill-color);\n",
              "    }\n",
              "    60% {\n",
              "      border-color: transparent;\n",
              "      border-right-color: var(--fill-color);\n",
              "    }\n",
              "    80% {\n",
              "      border-color: transparent;\n",
              "      border-right-color: var(--fill-color);\n",
              "      border-bottom-color: var(--fill-color);\n",
              "    }\n",
              "    90% {\n",
              "      border-color: transparent;\n",
              "      border-bottom-color: var(--fill-color);\n",
              "    }\n",
              "  }\n",
              "</style>\n",
              "\n",
              "  <script>\n",
              "    async function quickchart(key) {\n",
              "      const quickchartButtonEl =\n",
              "        document.querySelector('#' + key + ' button');\n",
              "      quickchartButtonEl.disabled = true;  // To prevent multiple clicks.\n",
              "      quickchartButtonEl.classList.add('colab-df-spinner');\n",
              "      try {\n",
              "        const charts = await google.colab.kernel.invokeFunction(\n",
              "            'suggestCharts', [key], {});\n",
              "      } catch (error) {\n",
              "        console.error('Error during call to suggestCharts:', error);\n",
              "      }\n",
              "      quickchartButtonEl.classList.remove('colab-df-spinner');\n",
              "      quickchartButtonEl.classList.add('colab-df-quickchart-complete');\n",
              "    }\n",
              "    (() => {\n",
              "      let quickchartButtonEl =\n",
              "        document.querySelector('#df-6511f590-1453-421d-9489-6db41c6308f4 button');\n",
              "      quickchartButtonEl.style.display =\n",
              "        google.colab.kernel.accessAllowed ? 'block' : 'none';\n",
              "    })();\n",
              "  </script>\n",
              "</div>\n",
              "    </div>\n",
              "  </div>\n"
            ]
          },
          "metadata": {},
          "execution_count": 6
        }
      ]
    },
    {
      "cell_type": "markdown",
      "source": [
        "#Task6"
      ],
      "metadata": {
        "id": "jZ5nzG3M_oT-"
      }
    },
    {
      "cell_type": "markdown",
      "source": [
        "#To view the shape of the data"
      ],
      "metadata": {
        "id": "IMEZMEvU_sA0"
      }
    },
    {
      "cell_type": "code",
      "source": [
        "df.shape"
      ],
      "metadata": {
        "colab": {
          "base_uri": "https://localhost:8080/"
        },
        "id": "9H-WOQxK818I",
        "outputId": "559c05e7-6e6d-4f9c-940e-7b772516cddd"
      },
      "execution_count": 8,
      "outputs": [
        {
          "output_type": "execute_result",
          "data": {
            "text/plain": [
              "(107406, 16)"
            ]
          },
          "metadata": {},
          "execution_count": 8
        }
      ]
    },
    {
      "cell_type": "markdown",
      "source": [
        "The data contains 107406 files and 16 colums"
      ],
      "metadata": {
        "id": "jZyUI9sY_7Tf"
      }
    },
    {
      "cell_type": "markdown",
      "source": [
        "#Task7"
      ],
      "metadata": {
        "id": "B3qFFrmOAORh"
      }
    },
    {
      "cell_type": "markdown",
      "source": [
        "#Checking for NAN/NULL values(missing values) of the data"
      ],
      "metadata": {
        "id": "t9JU6DFbATXj"
      }
    },
    {
      "cell_type": "code",
      "source": [
        "df.isnull().sum()"
      ],
      "metadata": {
        "colab": {
          "base_uri": "https://localhost:8080/"
        },
        "id": "VPbch24i9Fnl",
        "outputId": "f9ca9e9b-6e25-41ed-ff42-24ac68861af6"
      },
      "execution_count": 9,
      "outputs": [
        {
          "output_type": "execute_result",
          "data": {
            "text/plain": [
              "Data As Of                                      0\n",
              "Start Date                                      0\n",
              "End Date                                        0\n",
              "Group                                           0\n",
              "Year                                         2754\n",
              "Month                                       11016\n",
              "State                                           0\n",
              "Sex                                             0\n",
              "Age Group                                       0\n",
              "COVID-19 Deaths                             28933\n",
              "Total Deaths                                15500\n",
              "Pneumonia Deaths                            33185\n",
              "Pneumonia and COVID-19 Deaths               27787\n",
              "Influenza Deaths                            18726\n",
              "Pneumonia, Influenza, or COVID-19 Deaths    32475\n",
              "Footnote                                    34228\n",
              "dtype: int64"
            ]
          },
          "metadata": {},
          "execution_count": 9
        }
      ]
    },
    {
      "cell_type": "markdown",
      "source": [
        "There are 2754 missing values in Year colume, 11016 missing values in Month, 28933 missing values in COVID-19 Deaths,15500 missing values in Total Deaths,33185 missing values in Pneumonia Deaths,27787 missing values in Pneumonia and COVID-19 Deaths,18726 missing values in Influenza Deaths,32475 missing values in Pneumonia, Influenza, or COVID-19 Deaths,34228 missing values in Footnote. I have to fill the missing values using mean method for numerical missing values and mode method for categorical values"
      ],
      "metadata": {
        "id": "D3oniPFoAm1H"
      }
    },
    {
      "cell_type": "markdown",
      "source": [
        "#Task8"
      ],
      "metadata": {
        "id": "5bN50AQeC_73"
      }
    },
    {
      "cell_type": "markdown",
      "source": [
        "#To get the details of the data colums nature information"
      ],
      "metadata": {
        "id": "uT2uJuieDDJ2"
      }
    },
    {
      "cell_type": "code",
      "source": [
        "df.info()"
      ],
      "metadata": {
        "colab": {
          "base_uri": "https://localhost:8080/"
        },
        "id": "lvjut8K_9oBr",
        "outputId": "0ea7d6a8-dbc5-4244-af26-c73b9822e883"
      },
      "execution_count": 10,
      "outputs": [
        {
          "output_type": "stream",
          "name": "stdout",
          "text": [
            "<class 'pandas.core.frame.DataFrame'>\n",
            "RangeIndex: 107406 entries, 0 to 107405\n",
            "Data columns (total 16 columns):\n",
            " #   Column                                    Non-Null Count   Dtype  \n",
            "---  ------                                    --------------   -----  \n",
            " 0   Data As Of                                107406 non-null  object \n",
            " 1   Start Date                                107406 non-null  object \n",
            " 2   End Date                                  107406 non-null  object \n",
            " 3   Group                                     107406 non-null  object \n",
            " 4   Year                                      104652 non-null  float64\n",
            " 5   Month                                     96390 non-null   float64\n",
            " 6   State                                     107406 non-null  object \n",
            " 7   Sex                                       107406 non-null  object \n",
            " 8   Age Group                                 107406 non-null  object \n",
            " 9   COVID-19 Deaths                           78473 non-null   float64\n",
            " 10  Total Deaths                              91906 non-null   float64\n",
            " 11  Pneumonia Deaths                          74221 non-null   float64\n",
            " 12  Pneumonia and COVID-19 Deaths             79619 non-null   float64\n",
            " 13  Influenza Deaths                          88680 non-null   float64\n",
            " 14  Pneumonia, Influenza, or COVID-19 Deaths  74931 non-null   float64\n",
            " 15  Footnote                                  73178 non-null   object \n",
            "dtypes: float64(8), object(8)\n",
            "memory usage: 13.1+ MB\n"
          ]
        }
      ]
    },
    {
      "cell_type": "markdown",
      "source": [
        "There are 107406 entries, ranges from 0 to 107405 Data columns (total 16 columns) dtypes is float64(8), object(8) of the data. I will convert the \"Object\" to \"Categorical\" for proper data cleaning order."
      ],
      "metadata": {
        "id": "4L8IFF2FDX81"
      }
    },
    {
      "cell_type": "markdown",
      "source": [
        "#Task9"
      ],
      "metadata": {
        "id": "HhcRAXaNEXRa"
      }
    },
    {
      "cell_type": "markdown",
      "source": [
        "#To get the full descriptive statistics chart table for 'Year' colum from the data with missing values"
      ],
      "metadata": {
        "id": "ewsfvSBeEaC6"
      }
    },
    {
      "cell_type": "code",
      "source": [
        "df['Year'].describe()"
      ],
      "metadata": {
        "colab": {
          "base_uri": "https://localhost:8080/"
        },
        "id": "cxomaprW-nNs",
        "outputId": "8c8b60d0-d6eb-4dcc-bbad-d1581ac74379"
      },
      "execution_count": 11,
      "outputs": [
        {
          "output_type": "execute_result",
          "data": {
            "text/plain": [
              "count    104652.000000\n",
              "mean       2020.973684\n",
              "std           0.810684\n",
              "min        2020.000000\n",
              "25%        2020.000000\n",
              "50%        2021.000000\n",
              "75%        2022.000000\n",
              "max        2022.000000\n",
              "Name: Year, dtype: float64"
            ]
          },
          "metadata": {},
          "execution_count": 11
        }
      ]
    },
    {
      "cell_type": "markdown",
      "source": [
        "Year is numerical colum so i fill it with Mean Imputation. To remove null values in Year by computing the mean value of the column since Year is a numerical values"
      ],
      "metadata": {
        "id": "MPZfNCGz_yyl"
      }
    },
    {
      "cell_type": "markdown",
      "source": [
        "#Task10"
      ],
      "metadata": {
        "id": "MkyU5kMnE52m"
      }
    },
    {
      "cell_type": "markdown",
      "source": [
        "# Computing mean value Year to the missing values in Year colum"
      ],
      "metadata": {
        "id": "Jj4lbIOHFBB7"
      }
    },
    {
      "cell_type": "code",
      "source": [
        "df['Year'].fillna(df['Year'].mean(),inplace=True)"
      ],
      "metadata": {
        "id": "-qCgDqLZ_l47"
      },
      "execution_count": 12,
      "outputs": []
    },
    {
      "cell_type": "markdown",
      "source": [
        "To check if there is null values in Year colum"
      ],
      "metadata": {
        "id": "K6UxXYyPAjXQ"
      }
    },
    {
      "cell_type": "code",
      "source": [
        "df.isnull().sum()"
      ],
      "metadata": {
        "colab": {
          "base_uri": "https://localhost:8080/"
        },
        "id": "3tqIN4cyAamo",
        "outputId": "7d1b14c3-48c9-476b-c4c0-5d8a6276f466"
      },
      "execution_count": 13,
      "outputs": [
        {
          "output_type": "execute_result",
          "data": {
            "text/plain": [
              "Data As Of                                      0\n",
              "Start Date                                      0\n",
              "End Date                                        0\n",
              "Group                                           0\n",
              "Year                                            0\n",
              "Month                                       11016\n",
              "State                                           0\n",
              "Sex                                             0\n",
              "Age Group                                       0\n",
              "COVID-19 Deaths                             28933\n",
              "Total Deaths                                15500\n",
              "Pneumonia Deaths                            33185\n",
              "Pneumonia and COVID-19 Deaths               27787\n",
              "Influenza Deaths                            18726\n",
              "Pneumonia, Influenza, or COVID-19 Deaths    32475\n",
              "Footnote                                    34228\n",
              "dtype: int64"
            ]
          },
          "metadata": {},
          "execution_count": 13
        }
      ]
    },
    {
      "cell_type": "markdown",
      "source": [
        "We can see that all the missing values in year colum has been filled with the mean value of year colum"
      ],
      "metadata": {
        "id": "apKWSjR4A_iQ"
      }
    },
    {
      "cell_type": "markdown",
      "source": [
        "#Task11"
      ],
      "metadata": {
        "id": "6eP9YupvFZN0"
      }
    },
    {
      "cell_type": "markdown",
      "source": [
        "# Computing mean value Month to the missing values in Month colum"
      ],
      "metadata": {
        "id": "Pp-FUGHaFnjb"
      }
    },
    {
      "cell_type": "code",
      "source": [
        "df.info()"
      ],
      "metadata": {
        "colab": {
          "base_uri": "https://localhost:8080/"
        },
        "id": "6N2x0o7DBV84",
        "outputId": "654662fc-94b6-49ad-fe72-4bb36524b013"
      },
      "execution_count": 14,
      "outputs": [
        {
          "output_type": "stream",
          "name": "stdout",
          "text": [
            "<class 'pandas.core.frame.DataFrame'>\n",
            "RangeIndex: 107406 entries, 0 to 107405\n",
            "Data columns (total 16 columns):\n",
            " #   Column                                    Non-Null Count   Dtype  \n",
            "---  ------                                    --------------   -----  \n",
            " 0   Data As Of                                107406 non-null  object \n",
            " 1   Start Date                                107406 non-null  object \n",
            " 2   End Date                                  107406 non-null  object \n",
            " 3   Group                                     107406 non-null  object \n",
            " 4   Year                                      107406 non-null  float64\n",
            " 5   Month                                     96390 non-null   float64\n",
            " 6   State                                     107406 non-null  object \n",
            " 7   Sex                                       107406 non-null  object \n",
            " 8   Age Group                                 107406 non-null  object \n",
            " 9   COVID-19 Deaths                           78473 non-null   float64\n",
            " 10  Total Deaths                              91906 non-null   float64\n",
            " 11  Pneumonia Deaths                          74221 non-null   float64\n",
            " 12  Pneumonia and COVID-19 Deaths             79619 non-null   float64\n",
            " 13  Influenza Deaths                          88680 non-null   float64\n",
            " 14  Pneumonia, Influenza, or COVID-19 Deaths  74931 non-null   float64\n",
            " 15  Footnote                                  73178 non-null   object \n",
            "dtypes: float64(8), object(8)\n",
            "memory usage: 13.1+ MB\n"
          ]
        }
      ]
    },
    {
      "cell_type": "markdown",
      "source": [
        "Month is numerical column so i fill it with Mean Inputation. To remove null values in Month by computing the mean value of the column since Month is a numerical values"
      ],
      "metadata": {
        "id": "6gJDykFuBw4r"
      }
    },
    {
      "cell_type": "code",
      "source": [
        "df['Month'].fillna(df['Month'].mean(),inplace=True)"
      ],
      "metadata": {
        "id": "z6tlj-J8BWlm"
      },
      "execution_count": 15,
      "outputs": []
    },
    {
      "cell_type": "markdown",
      "source": [
        "To check if there is null values in Month colum"
      ],
      "metadata": {
        "id": "Xg_u4v4xCjim"
      }
    },
    {
      "cell_type": "code",
      "source": [
        "df.isnull().sum()"
      ],
      "metadata": {
        "colab": {
          "base_uri": "https://localhost:8080/"
        },
        "id": "S6E4yneTBWp4",
        "outputId": "2fd55e9d-75a1-468c-d2d6-e8a971d20f7c"
      },
      "execution_count": 16,
      "outputs": [
        {
          "output_type": "execute_result",
          "data": {
            "text/plain": [
              "Data As Of                                      0\n",
              "Start Date                                      0\n",
              "End Date                                        0\n",
              "Group                                           0\n",
              "Year                                            0\n",
              "Month                                           0\n",
              "State                                           0\n",
              "Sex                                             0\n",
              "Age Group                                       0\n",
              "COVID-19 Deaths                             28933\n",
              "Total Deaths                                15500\n",
              "Pneumonia Deaths                            33185\n",
              "Pneumonia and COVID-19 Deaths               27787\n",
              "Influenza Deaths                            18726\n",
              "Pneumonia, Influenza, or COVID-19 Deaths    32475\n",
              "Footnote                                    34228\n",
              "dtype: int64"
            ]
          },
          "metadata": {},
          "execution_count": 16
        }
      ]
    },
    {
      "cell_type": "markdown",
      "source": [
        "We can see that all the missing values in Month colum has been filled with the mean value of Month colum"
      ],
      "metadata": {
        "id": "d79nywQ5C4Bs"
      }
    },
    {
      "cell_type": "markdown",
      "source": [
        "#Task12"
      ],
      "metadata": {
        "id": "jtC1uiz1F1me"
      }
    },
    {
      "cell_type": "markdown",
      "source": [
        "# Computing mean value COVID-19 Deaths to the missing values in COVID-19 Deaths colum"
      ],
      "metadata": {
        "id": "xmviEURvGA5T"
      }
    },
    {
      "cell_type": "code",
      "source": [
        "df.info()"
      ],
      "metadata": {
        "colab": {
          "base_uri": "https://localhost:8080/"
        },
        "id": "noD_etUGBWul",
        "outputId": "4e38f4dd-4767-49f2-913d-f894c6c99215"
      },
      "execution_count": 17,
      "outputs": [
        {
          "output_type": "stream",
          "name": "stdout",
          "text": [
            "<class 'pandas.core.frame.DataFrame'>\n",
            "RangeIndex: 107406 entries, 0 to 107405\n",
            "Data columns (total 16 columns):\n",
            " #   Column                                    Non-Null Count   Dtype  \n",
            "---  ------                                    --------------   -----  \n",
            " 0   Data As Of                                107406 non-null  object \n",
            " 1   Start Date                                107406 non-null  object \n",
            " 2   End Date                                  107406 non-null  object \n",
            " 3   Group                                     107406 non-null  object \n",
            " 4   Year                                      107406 non-null  float64\n",
            " 5   Month                                     107406 non-null  float64\n",
            " 6   State                                     107406 non-null  object \n",
            " 7   Sex                                       107406 non-null  object \n",
            " 8   Age Group                                 107406 non-null  object \n",
            " 9   COVID-19 Deaths                           78473 non-null   float64\n",
            " 10  Total Deaths                              91906 non-null   float64\n",
            " 11  Pneumonia Deaths                          74221 non-null   float64\n",
            " 12  Pneumonia and COVID-19 Deaths             79619 non-null   float64\n",
            " 13  Influenza Deaths                          88680 non-null   float64\n",
            " 14  Pneumonia, Influenza, or COVID-19 Deaths  74931 non-null   float64\n",
            " 15  Footnote                                  73178 non-null   object \n",
            "dtypes: float64(8), object(8)\n",
            "memory usage: 13.1+ MB\n"
          ]
        }
      ]
    },
    {
      "cell_type": "markdown",
      "source": [
        "COVID-19 Deaths is numerical column so i fill it with Mean Imputation. To remove null values in COVID-19 Deaths by computing the mean value of the column since COVID-19 Deaths is a numerical values"
      ],
      "metadata": {
        "id": "52uKSFCjDNz7"
      }
    },
    {
      "cell_type": "code",
      "source": [
        "df['COVID-19 Deaths'].fillna(df['COVID-19 Deaths'].mean(),inplace=True)"
      ],
      "metadata": {
        "id": "nHzJVIVOBWz7"
      },
      "execution_count": 18,
      "outputs": []
    },
    {
      "cell_type": "markdown",
      "source": [
        "To check if there is null values in COVID-19 Deaths colum\n",
        "\n",
        "\n"
      ],
      "metadata": {
        "id": "otPXxSNfEJ_v"
      }
    },
    {
      "cell_type": "code",
      "source": [
        "df.isnull().sum()"
      ],
      "metadata": {
        "colab": {
          "base_uri": "https://localhost:8080/"
        },
        "id": "RMQETDZrBW6U",
        "outputId": "c22199ec-2890-486c-e5f3-f6b80b2b0c4e"
      },
      "execution_count": 19,
      "outputs": [
        {
          "output_type": "execute_result",
          "data": {
            "text/plain": [
              "Data As Of                                      0\n",
              "Start Date                                      0\n",
              "End Date                                        0\n",
              "Group                                           0\n",
              "Year                                            0\n",
              "Month                                           0\n",
              "State                                           0\n",
              "Sex                                             0\n",
              "Age Group                                       0\n",
              "COVID-19 Deaths                                 0\n",
              "Total Deaths                                15500\n",
              "Pneumonia Deaths                            33185\n",
              "Pneumonia and COVID-19 Deaths               27787\n",
              "Influenza Deaths                            18726\n",
              "Pneumonia, Influenza, or COVID-19 Deaths    32475\n",
              "Footnote                                    34228\n",
              "dtype: int64"
            ]
          },
          "metadata": {},
          "execution_count": 19
        }
      ]
    },
    {
      "cell_type": "markdown",
      "source": [
        "We can see that all the missing values in COVID-19 Deaths colum has been filled with the COVID-19 Deaths value of COVID-19 colum"
      ],
      "metadata": {
        "id": "w7dk2eflElPh"
      }
    },
    {
      "cell_type": "markdown",
      "source": [
        "#Task13"
      ],
      "metadata": {
        "id": "V_FjStfjGLo1"
      }
    },
    {
      "cell_type": "markdown",
      "source": [
        "# Computing mean value Total Deaths to the missing values in Total Deaths colum"
      ],
      "metadata": {
        "id": "ueVhXirmGOD7"
      }
    },
    {
      "cell_type": "code",
      "source": [
        "df.info()"
      ],
      "metadata": {
        "colab": {
          "base_uri": "https://localhost:8080/"
        },
        "id": "87oMZBYCBW_K",
        "outputId": "8fd01cca-c91b-4fa4-ee62-4d7cb9c1019d"
      },
      "execution_count": 20,
      "outputs": [
        {
          "output_type": "stream",
          "name": "stdout",
          "text": [
            "<class 'pandas.core.frame.DataFrame'>\n",
            "RangeIndex: 107406 entries, 0 to 107405\n",
            "Data columns (total 16 columns):\n",
            " #   Column                                    Non-Null Count   Dtype  \n",
            "---  ------                                    --------------   -----  \n",
            " 0   Data As Of                                107406 non-null  object \n",
            " 1   Start Date                                107406 non-null  object \n",
            " 2   End Date                                  107406 non-null  object \n",
            " 3   Group                                     107406 non-null  object \n",
            " 4   Year                                      107406 non-null  float64\n",
            " 5   Month                                     107406 non-null  float64\n",
            " 6   State                                     107406 non-null  object \n",
            " 7   Sex                                       107406 non-null  object \n",
            " 8   Age Group                                 107406 non-null  object \n",
            " 9   COVID-19 Deaths                           107406 non-null  float64\n",
            " 10  Total Deaths                              91906 non-null   float64\n",
            " 11  Pneumonia Deaths                          74221 non-null   float64\n",
            " 12  Pneumonia and COVID-19 Deaths             79619 non-null   float64\n",
            " 13  Influenza Deaths                          88680 non-null   float64\n",
            " 14  Pneumonia, Influenza, or COVID-19 Deaths  74931 non-null   float64\n",
            " 15  Footnote                                  73178 non-null   object \n",
            "dtypes: float64(8), object(8)\n",
            "memory usage: 13.1+ MB\n"
          ]
        }
      ]
    },
    {
      "cell_type": "markdown",
      "source": [
        "Total Deaths is numerical column so i fill it with Mean Imputation. To remove null values in Total Deaths by computing the mean value of the column since Total Deaths is a numerical values"
      ],
      "metadata": {
        "id": "_HnTL4oDE5eI"
      }
    },
    {
      "cell_type": "code",
      "source": [
        "df['Total Deaths'].fillna(df['Total Deaths'].mean(),inplace=True)"
      ],
      "metadata": {
        "id": "ho8kMtzIBXFh"
      },
      "execution_count": 21,
      "outputs": []
    },
    {
      "cell_type": "markdown",
      "source": [
        "To check if there is null values in Total Deaths colum\n",
        "\n",
        "\n"
      ],
      "metadata": {
        "id": "xbcR4y30Fb0S"
      }
    },
    {
      "cell_type": "code",
      "source": [
        "df.isnull().sum()"
      ],
      "metadata": {
        "colab": {
          "base_uri": "https://localhost:8080/"
        },
        "id": "U3jwgxgGBXMu",
        "outputId": "d6e158ec-e9dd-4479-ff7a-5cd330bf03a9"
      },
      "execution_count": 22,
      "outputs": [
        {
          "output_type": "execute_result",
          "data": {
            "text/plain": [
              "Data As Of                                      0\n",
              "Start Date                                      0\n",
              "End Date                                        0\n",
              "Group                                           0\n",
              "Year                                            0\n",
              "Month                                           0\n",
              "State                                           0\n",
              "Sex                                             0\n",
              "Age Group                                       0\n",
              "COVID-19 Deaths                                 0\n",
              "Total Deaths                                    0\n",
              "Pneumonia Deaths                            33185\n",
              "Pneumonia and COVID-19 Deaths               27787\n",
              "Influenza Deaths                            18726\n",
              "Pneumonia, Influenza, or COVID-19 Deaths    32475\n",
              "Footnote                                    34228\n",
              "dtype: int64"
            ]
          },
          "metadata": {},
          "execution_count": 22
        }
      ]
    },
    {
      "cell_type": "markdown",
      "source": [
        "We can see that all the missing values in Total Deaths colum has been filled with the Total Deaths value of Total Deaths colum"
      ],
      "metadata": {
        "id": "rvZ_AufrFwma"
      }
    },
    {
      "cell_type": "markdown",
      "source": [
        "#Task14"
      ],
      "metadata": {
        "id": "mMvFrhq2GbHu"
      }
    },
    {
      "cell_type": "markdown",
      "source": [
        "# Computing mean value Pneumonia Deaths to the missing values in Pneumonia Deaths colum"
      ],
      "metadata": {
        "id": "mvFNwI8QGh4-"
      }
    },
    {
      "cell_type": "code",
      "source": [
        "df.info()"
      ],
      "metadata": {
        "colab": {
          "base_uri": "https://localhost:8080/"
        },
        "id": "qQOEhjrEBXTy",
        "outputId": "692b0c58-fa6f-4407-c4af-472210bf88b6"
      },
      "execution_count": 23,
      "outputs": [
        {
          "output_type": "stream",
          "name": "stdout",
          "text": [
            "<class 'pandas.core.frame.DataFrame'>\n",
            "RangeIndex: 107406 entries, 0 to 107405\n",
            "Data columns (total 16 columns):\n",
            " #   Column                                    Non-Null Count   Dtype  \n",
            "---  ------                                    --------------   -----  \n",
            " 0   Data As Of                                107406 non-null  object \n",
            " 1   Start Date                                107406 non-null  object \n",
            " 2   End Date                                  107406 non-null  object \n",
            " 3   Group                                     107406 non-null  object \n",
            " 4   Year                                      107406 non-null  float64\n",
            " 5   Month                                     107406 non-null  float64\n",
            " 6   State                                     107406 non-null  object \n",
            " 7   Sex                                       107406 non-null  object \n",
            " 8   Age Group                                 107406 non-null  object \n",
            " 9   COVID-19 Deaths                           107406 non-null  float64\n",
            " 10  Total Deaths                              107406 non-null  float64\n",
            " 11  Pneumonia Deaths                          74221 non-null   float64\n",
            " 12  Pneumonia and COVID-19 Deaths             79619 non-null   float64\n",
            " 13  Influenza Deaths                          88680 non-null   float64\n",
            " 14  Pneumonia, Influenza, or COVID-19 Deaths  74931 non-null   float64\n",
            " 15  Footnote                                  73178 non-null   object \n",
            "dtypes: float64(8), object(8)\n",
            "memory usage: 13.1+ MB\n"
          ]
        }
      ]
    },
    {
      "cell_type": "markdown",
      "source": [
        "Pneumonia Deaths is numerical column so i fill it with Mean Imputation. To remove null values in Pneumonia Deaths by computing the mean value of the column since Pneumonia Deaths is a numerical values"
      ],
      "metadata": {
        "id": "AoM1rr5lG117"
      }
    },
    {
      "cell_type": "code",
      "source": [
        "df['Pneumonia Deaths'].fillna(df['Pneumonia Deaths'].mean(),inplace=True)"
      ],
      "metadata": {
        "id": "MWDX3KOqBXfF"
      },
      "execution_count": 24,
      "outputs": []
    },
    {
      "cell_type": "markdown",
      "source": [
        "To check if there is null values in Pneumonia Deaths colum"
      ],
      "metadata": {
        "id": "04xvWCd9Hlwz"
      }
    },
    {
      "cell_type": "code",
      "source": [
        "df.isnull().sum()"
      ],
      "metadata": {
        "colab": {
          "base_uri": "https://localhost:8080/"
        },
        "id": "FMJFde-YBXjs",
        "outputId": "11776ad9-cc10-4e34-f925-b491ddf9a22c"
      },
      "execution_count": 25,
      "outputs": [
        {
          "output_type": "execute_result",
          "data": {
            "text/plain": [
              "Data As Of                                      0\n",
              "Start Date                                      0\n",
              "End Date                                        0\n",
              "Group                                           0\n",
              "Year                                            0\n",
              "Month                                           0\n",
              "State                                           0\n",
              "Sex                                             0\n",
              "Age Group                                       0\n",
              "COVID-19 Deaths                                 0\n",
              "Total Deaths                                    0\n",
              "Pneumonia Deaths                                0\n",
              "Pneumonia and COVID-19 Deaths               27787\n",
              "Influenza Deaths                            18726\n",
              "Pneumonia, Influenza, or COVID-19 Deaths    32475\n",
              "Footnote                                    34228\n",
              "dtype: int64"
            ]
          },
          "metadata": {},
          "execution_count": 25
        }
      ]
    },
    {
      "cell_type": "markdown",
      "source": [
        "We can see that all the missing values in Pneumonia Deaths colum has been filled with the Pneumonia Deaths value of Pneumonia Deaths colum"
      ],
      "metadata": {
        "id": "_NmsO3I5H6ki"
      }
    },
    {
      "cell_type": "markdown",
      "source": [
        "#Task15"
      ],
      "metadata": {
        "id": "1JA3XnV_GnbR"
      }
    },
    {
      "cell_type": "markdown",
      "source": [
        "# Computing mean value Pneumonia and COVID-19 Deaths to the missing values in Pneumonia and COVID-19 Deaths colum"
      ],
      "metadata": {
        "id": "hhggMMzIGtbH"
      }
    },
    {
      "cell_type": "code",
      "source": [
        "df.info()"
      ],
      "metadata": {
        "colab": {
          "base_uri": "https://localhost:8080/"
        },
        "id": "u8kBHoDvBXov",
        "outputId": "3d364baf-5861-4431-eac1-176efff0784b"
      },
      "execution_count": 26,
      "outputs": [
        {
          "output_type": "stream",
          "name": "stdout",
          "text": [
            "<class 'pandas.core.frame.DataFrame'>\n",
            "RangeIndex: 107406 entries, 0 to 107405\n",
            "Data columns (total 16 columns):\n",
            " #   Column                                    Non-Null Count   Dtype  \n",
            "---  ------                                    --------------   -----  \n",
            " 0   Data As Of                                107406 non-null  object \n",
            " 1   Start Date                                107406 non-null  object \n",
            " 2   End Date                                  107406 non-null  object \n",
            " 3   Group                                     107406 non-null  object \n",
            " 4   Year                                      107406 non-null  float64\n",
            " 5   Month                                     107406 non-null  float64\n",
            " 6   State                                     107406 non-null  object \n",
            " 7   Sex                                       107406 non-null  object \n",
            " 8   Age Group                                 107406 non-null  object \n",
            " 9   COVID-19 Deaths                           107406 non-null  float64\n",
            " 10  Total Deaths                              107406 non-null  float64\n",
            " 11  Pneumonia Deaths                          107406 non-null  float64\n",
            " 12  Pneumonia and COVID-19 Deaths             79619 non-null   float64\n",
            " 13  Influenza Deaths                          88680 non-null   float64\n",
            " 14  Pneumonia, Influenza, or COVID-19 Deaths  74931 non-null   float64\n",
            " 15  Footnote                                  73178 non-null   object \n",
            "dtypes: float64(8), object(8)\n",
            "memory usage: 13.1+ MB\n"
          ]
        }
      ]
    },
    {
      "cell_type": "markdown",
      "source": [
        "Pneumonia and COVID-19 Deaths is numerical column so i fill it with Mean Imputation. To remove null values in Pneumonia and COVID-19 Deaths by computing the mean value of the column since Pneumonia and COVID-19 Deaths is a numerical values"
      ],
      "metadata": {
        "id": "geFiaL12ISbm"
      }
    },
    {
      "cell_type": "code",
      "source": [
        "df['Pneumonia and COVID-19 Deaths'].fillna(df['Pneumonia and COVID-19 Deaths'].mean(),inplace=True)"
      ],
      "metadata": {
        "id": "DvfPjuPsBXuA"
      },
      "execution_count": 27,
      "outputs": []
    },
    {
      "cell_type": "markdown",
      "source": [
        "To check if there is null values in Pneumonia and COVID-19 Deaths colum"
      ],
      "metadata": {
        "id": "Znwjt6WQI78x"
      }
    },
    {
      "cell_type": "code",
      "source": [
        "df.isnull().sum()"
      ],
      "metadata": {
        "colab": {
          "base_uri": "https://localhost:8080/"
        },
        "id": "i_HXqTDUBXyt",
        "outputId": "a78be90d-2314-43a0-be51-aa33ca46e20a"
      },
      "execution_count": 28,
      "outputs": [
        {
          "output_type": "execute_result",
          "data": {
            "text/plain": [
              "Data As Of                                      0\n",
              "Start Date                                      0\n",
              "End Date                                        0\n",
              "Group                                           0\n",
              "Year                                            0\n",
              "Month                                           0\n",
              "State                                           0\n",
              "Sex                                             0\n",
              "Age Group                                       0\n",
              "COVID-19 Deaths                                 0\n",
              "Total Deaths                                    0\n",
              "Pneumonia Deaths                                0\n",
              "Pneumonia and COVID-19 Deaths                   0\n",
              "Influenza Deaths                            18726\n",
              "Pneumonia, Influenza, or COVID-19 Deaths    32475\n",
              "Footnote                                    34228\n",
              "dtype: int64"
            ]
          },
          "metadata": {},
          "execution_count": 28
        }
      ]
    },
    {
      "cell_type": "markdown",
      "source": [
        "We can see that all the missing values in Pneumonia and COVID-19 Deaths colum has been filled with the Pneumonia and COVID-19 Deaths value of Pneumonia and COVID-19 Deaths colum"
      ],
      "metadata": {
        "id": "2511q-OtJWLg"
      }
    },
    {
      "cell_type": "markdown",
      "source": [
        "#Task16"
      ],
      "metadata": {
        "id": "hCqT7tilG3fL"
      }
    },
    {
      "cell_type": "markdown",
      "source": [
        "# Computing mean value Influenza Deaths to the missing values in Influenza Deaths colum"
      ],
      "metadata": {
        "id": "x3kF9z5TG6Fp"
      }
    },
    {
      "cell_type": "code",
      "source": [
        "df.info()"
      ],
      "metadata": {
        "colab": {
          "base_uri": "https://localhost:8080/"
        },
        "id": "Jv6sswHmJFQY",
        "outputId": "254fe119-4a02-4861-a601-6c70de78646a"
      },
      "execution_count": 29,
      "outputs": [
        {
          "output_type": "stream",
          "name": "stdout",
          "text": [
            "<class 'pandas.core.frame.DataFrame'>\n",
            "RangeIndex: 107406 entries, 0 to 107405\n",
            "Data columns (total 16 columns):\n",
            " #   Column                                    Non-Null Count   Dtype  \n",
            "---  ------                                    --------------   -----  \n",
            " 0   Data As Of                                107406 non-null  object \n",
            " 1   Start Date                                107406 non-null  object \n",
            " 2   End Date                                  107406 non-null  object \n",
            " 3   Group                                     107406 non-null  object \n",
            " 4   Year                                      107406 non-null  float64\n",
            " 5   Month                                     107406 non-null  float64\n",
            " 6   State                                     107406 non-null  object \n",
            " 7   Sex                                       107406 non-null  object \n",
            " 8   Age Group                                 107406 non-null  object \n",
            " 9   COVID-19 Deaths                           107406 non-null  float64\n",
            " 10  Total Deaths                              107406 non-null  float64\n",
            " 11  Pneumonia Deaths                          107406 non-null  float64\n",
            " 12  Pneumonia and COVID-19 Deaths             107406 non-null  float64\n",
            " 13  Influenza Deaths                          88680 non-null   float64\n",
            " 14  Pneumonia, Influenza, or COVID-19 Deaths  74931 non-null   float64\n",
            " 15  Footnote                                  73178 non-null   object \n",
            "dtypes: float64(8), object(8)\n",
            "memory usage: 13.1+ MB\n"
          ]
        }
      ]
    },
    {
      "cell_type": "markdown",
      "source": [
        "Influenza Deaths is numerical column so i fill it with Mean Imputation. To remove null values in Pneumonia and Influenza Deaths by computing the mean value of the column since Pneumonia and Influenza Deaths is a numerical values"
      ],
      "metadata": {
        "id": "uI7ZDOD-Jt6u"
      }
    },
    {
      "cell_type": "code",
      "source": [
        "df['Influenza Deaths'].fillna(df['Influenza Deaths'].mean(),inplace=True)"
      ],
      "metadata": {
        "id": "b7xxVfq7JFZg"
      },
      "execution_count": 30,
      "outputs": []
    },
    {
      "cell_type": "markdown",
      "source": [
        "To check if there is null values in Influenza Deaths colum"
      ],
      "metadata": {
        "id": "a75DsyuZKU49"
      }
    },
    {
      "cell_type": "code",
      "source": [
        "df.isnull().sum()"
      ],
      "metadata": {
        "colab": {
          "base_uri": "https://localhost:8080/"
        },
        "id": "drnJLLiLJFgr",
        "outputId": "9d60ffe3-04d0-4a5c-c364-6152637dbe98"
      },
      "execution_count": 31,
      "outputs": [
        {
          "output_type": "execute_result",
          "data": {
            "text/plain": [
              "Data As Of                                      0\n",
              "Start Date                                      0\n",
              "End Date                                        0\n",
              "Group                                           0\n",
              "Year                                            0\n",
              "Month                                           0\n",
              "State                                           0\n",
              "Sex                                             0\n",
              "Age Group                                       0\n",
              "COVID-19 Deaths                                 0\n",
              "Total Deaths                                    0\n",
              "Pneumonia Deaths                                0\n",
              "Pneumonia and COVID-19 Deaths                   0\n",
              "Influenza Deaths                                0\n",
              "Pneumonia, Influenza, or COVID-19 Deaths    32475\n",
              "Footnote                                    34228\n",
              "dtype: int64"
            ]
          },
          "metadata": {},
          "execution_count": 31
        }
      ]
    },
    {
      "cell_type": "markdown",
      "source": [
        "We can see that all the missing values in Influenza Deaths colum has been filled with the Influenza Deaths value of Influenza Deaths colum"
      ],
      "metadata": {
        "id": "DJR3NkjPKozo"
      }
    },
    {
      "cell_type": "markdown",
      "source": [
        "#Task17"
      ],
      "metadata": {
        "id": "f7WnBsG0HLOQ"
      }
    },
    {
      "cell_type": "markdown",
      "source": [
        "# Computing mean value Pneumonia, Influenza, or COVID-19 Deaths to the missing values in Pneumonia, Influenza, or COVID-19 Deaths colum"
      ],
      "metadata": {
        "id": "GpH6_YuiHTRE"
      }
    },
    {
      "cell_type": "code",
      "source": [
        "df.info()"
      ],
      "metadata": {
        "colab": {
          "base_uri": "https://localhost:8080/"
        },
        "id": "fZ-my0eiJFnV",
        "outputId": "f44de4a5-8359-4ad8-b4a5-bce5131a7059"
      },
      "execution_count": 32,
      "outputs": [
        {
          "output_type": "stream",
          "name": "stdout",
          "text": [
            "<class 'pandas.core.frame.DataFrame'>\n",
            "RangeIndex: 107406 entries, 0 to 107405\n",
            "Data columns (total 16 columns):\n",
            " #   Column                                    Non-Null Count   Dtype  \n",
            "---  ------                                    --------------   -----  \n",
            " 0   Data As Of                                107406 non-null  object \n",
            " 1   Start Date                                107406 non-null  object \n",
            " 2   End Date                                  107406 non-null  object \n",
            " 3   Group                                     107406 non-null  object \n",
            " 4   Year                                      107406 non-null  float64\n",
            " 5   Month                                     107406 non-null  float64\n",
            " 6   State                                     107406 non-null  object \n",
            " 7   Sex                                       107406 non-null  object \n",
            " 8   Age Group                                 107406 non-null  object \n",
            " 9   COVID-19 Deaths                           107406 non-null  float64\n",
            " 10  Total Deaths                              107406 non-null  float64\n",
            " 11  Pneumonia Deaths                          107406 non-null  float64\n",
            " 12  Pneumonia and COVID-19 Deaths             107406 non-null  float64\n",
            " 13  Influenza Deaths                          107406 non-null  float64\n",
            " 14  Pneumonia, Influenza, or COVID-19 Deaths  74931 non-null   float64\n",
            " 15  Footnote                                  73178 non-null   object \n",
            "dtypes: float64(8), object(8)\n",
            "memory usage: 13.1+ MB\n"
          ]
        }
      ]
    },
    {
      "cell_type": "markdown",
      "source": [
        "Pneumonia, Influenza, or COVID-19 Deaths is numerical column so i fill it with Mean Imputation. To remove null values in Pneumonia, Influenza, or COVID-19 Deaths by computing the mean value of the column since Pneumonia, Influenza, or COVID-19 Deaths is a numerical values"
      ],
      "metadata": {
        "id": "r6mTnlJmLEx5"
      }
    },
    {
      "cell_type": "code",
      "source": [
        "df['Pneumonia, Influenza, or COVID-19 Deaths'].fillna(df['Pneumonia, Influenza, or COVID-19 Deaths'].mean(),inplace=True)"
      ],
      "metadata": {
        "id": "EhLnACHxJFsA"
      },
      "execution_count": 33,
      "outputs": []
    },
    {
      "cell_type": "markdown",
      "source": [
        "To check if there is null values in Pneumonia, Influenza, or COVID-19 Deaths colum"
      ],
      "metadata": {
        "id": "8H0PMPshLtsL"
      }
    },
    {
      "cell_type": "code",
      "source": [
        "df.isnull().sum()"
      ],
      "metadata": {
        "colab": {
          "base_uri": "https://localhost:8080/"
        },
        "id": "IRj2yze9JFxw",
        "outputId": "26483305-ac2a-4f65-af31-8b1dcd54ce9b"
      },
      "execution_count": 34,
      "outputs": [
        {
          "output_type": "execute_result",
          "data": {
            "text/plain": [
              "Data As Of                                      0\n",
              "Start Date                                      0\n",
              "End Date                                        0\n",
              "Group                                           0\n",
              "Year                                            0\n",
              "Month                                           0\n",
              "State                                           0\n",
              "Sex                                             0\n",
              "Age Group                                       0\n",
              "COVID-19 Deaths                                 0\n",
              "Total Deaths                                    0\n",
              "Pneumonia Deaths                                0\n",
              "Pneumonia and COVID-19 Deaths                   0\n",
              "Influenza Deaths                                0\n",
              "Pneumonia, Influenza, or COVID-19 Deaths        0\n",
              "Footnote                                    34228\n",
              "dtype: int64"
            ]
          },
          "metadata": {},
          "execution_count": 34
        }
      ]
    },
    {
      "cell_type": "markdown",
      "source": [
        "We can see that all the missing values in Pneumonia, Influenza, or COVID-19 Deaths colum has been filled with the Pneumonia, Influenza, or COVID-19 Deaths value of Pneumonia, Influenza, or COVID-19 Deaths colum"
      ],
      "metadata": {
        "id": "mNmY1bTjL9A8"
      }
    },
    {
      "cell_type": "code",
      "source": [
        "df.info()"
      ],
      "metadata": {
        "colab": {
          "base_uri": "https://localhost:8080/"
        },
        "id": "8afJoPh_JF-S",
        "outputId": "f25479f5-764d-476b-d926-8c755399272b"
      },
      "execution_count": 35,
      "outputs": [
        {
          "output_type": "stream",
          "name": "stdout",
          "text": [
            "<class 'pandas.core.frame.DataFrame'>\n",
            "RangeIndex: 107406 entries, 0 to 107405\n",
            "Data columns (total 16 columns):\n",
            " #   Column                                    Non-Null Count   Dtype  \n",
            "---  ------                                    --------------   -----  \n",
            " 0   Data As Of                                107406 non-null  object \n",
            " 1   Start Date                                107406 non-null  object \n",
            " 2   End Date                                  107406 non-null  object \n",
            " 3   Group                                     107406 non-null  object \n",
            " 4   Year                                      107406 non-null  float64\n",
            " 5   Month                                     107406 non-null  float64\n",
            " 6   State                                     107406 non-null  object \n",
            " 7   Sex                                       107406 non-null  object \n",
            " 8   Age Group                                 107406 non-null  object \n",
            " 9   COVID-19 Deaths                           107406 non-null  float64\n",
            " 10  Total Deaths                              107406 non-null  float64\n",
            " 11  Pneumonia Deaths                          107406 non-null  float64\n",
            " 12  Pneumonia and COVID-19 Deaths             107406 non-null  float64\n",
            " 13  Influenza Deaths                          107406 non-null  float64\n",
            " 14  Pneumonia, Influenza, or COVID-19 Deaths  107406 non-null  float64\n",
            " 15  Footnote                                  73178 non-null   object \n",
            "dtypes: float64(8), object(8)\n",
            "memory usage: 13.1+ MB\n"
          ]
        }
      ]
    },
    {
      "cell_type": "code",
      "source": [
        "df.head()"
      ],
      "metadata": {
        "colab": {
          "base_uri": "https://localhost:8080/",
          "height": 300
        },
        "id": "-25wxeHKMieR",
        "outputId": "a294c345-c880-4c22-edbd-af577bba6f44"
      },
      "execution_count": 36,
      "outputs": [
        {
          "output_type": "execute_result",
          "data": {
            "text/plain": [
              "   Data As Of  Start Date    End Date     Group         Year     Month  \\\n",
              "0  11/09/2022  01/01/2020  11/05/2022  By Total  2020.973684  6.342857   \n",
              "1  11/09/2022  01/01/2020  11/05/2022  By Total  2020.973684  6.342857   \n",
              "2  11/09/2022  01/01/2020  11/05/2022  By Total  2020.973684  6.342857   \n",
              "3  11/09/2022  01/01/2020  11/05/2022  By Total  2020.973684  6.342857   \n",
              "4  11/09/2022  01/01/2020  11/05/2022  By Total  2020.973684  6.342857   \n",
              "\n",
              "           State        Sex     Age Group  COVID-19 Deaths  Total Deaths  \\\n",
              "0  United States  All Sexes      All Ages        1067539.0     9521311.0   \n",
              "1  United States  All Sexes  Under 1 year            380.0       55203.0   \n",
              "2  United States  All Sexes    0-17 years           1350.0       98109.0   \n",
              "3  United States  All Sexes     1-4 years            202.0       10536.0   \n",
              "4  United States  All Sexes    5-14 years            423.0       16461.0   \n",
              "\n",
              "   Pneumonia Deaths  Pneumonia and COVID-19 Deaths  Influenza Deaths  \\\n",
              "0          987383.0                       540649.0           12621.0   \n",
              "1             740.0                           62.0              43.0   \n",
              "2            2043.0                          343.0             270.0   \n",
              "3             434.0                           48.0              89.0   \n",
              "4             569.0                          121.0             110.0   \n",
              "\n",
              "   Pneumonia, Influenza, or COVID-19 Deaths Footnote  \n",
              "0                                 1525057.0      NaN  \n",
              "1                                    1099.0      NaN  \n",
              "2                                    3306.0      NaN  \n",
              "3                                     673.0      NaN  \n",
              "4                                     974.0      NaN  "
            ],
            "text/html": [
              "\n",
              "  <div id=\"df-5062627a-6fc6-4f49-9143-a976ea48c578\" class=\"colab-df-container\">\n",
              "    <div>\n",
              "<style scoped>\n",
              "    .dataframe tbody tr th:only-of-type {\n",
              "        vertical-align: middle;\n",
              "    }\n",
              "\n",
              "    .dataframe tbody tr th {\n",
              "        vertical-align: top;\n",
              "    }\n",
              "\n",
              "    .dataframe thead th {\n",
              "        text-align: right;\n",
              "    }\n",
              "</style>\n",
              "<table border=\"1\" class=\"dataframe\">\n",
              "  <thead>\n",
              "    <tr style=\"text-align: right;\">\n",
              "      <th></th>\n",
              "      <th>Data As Of</th>\n",
              "      <th>Start Date</th>\n",
              "      <th>End Date</th>\n",
              "      <th>Group</th>\n",
              "      <th>Year</th>\n",
              "      <th>Month</th>\n",
              "      <th>State</th>\n",
              "      <th>Sex</th>\n",
              "      <th>Age Group</th>\n",
              "      <th>COVID-19 Deaths</th>\n",
              "      <th>Total Deaths</th>\n",
              "      <th>Pneumonia Deaths</th>\n",
              "      <th>Pneumonia and COVID-19 Deaths</th>\n",
              "      <th>Influenza Deaths</th>\n",
              "      <th>Pneumonia, Influenza, or COVID-19 Deaths</th>\n",
              "      <th>Footnote</th>\n",
              "    </tr>\n",
              "  </thead>\n",
              "  <tbody>\n",
              "    <tr>\n",
              "      <th>0</th>\n",
              "      <td>11/09/2022</td>\n",
              "      <td>01/01/2020</td>\n",
              "      <td>11/05/2022</td>\n",
              "      <td>By Total</td>\n",
              "      <td>2020.973684</td>\n",
              "      <td>6.342857</td>\n",
              "      <td>United States</td>\n",
              "      <td>All Sexes</td>\n",
              "      <td>All Ages</td>\n",
              "      <td>1067539.0</td>\n",
              "      <td>9521311.0</td>\n",
              "      <td>987383.0</td>\n",
              "      <td>540649.0</td>\n",
              "      <td>12621.0</td>\n",
              "      <td>1525057.0</td>\n",
              "      <td>NaN</td>\n",
              "    </tr>\n",
              "    <tr>\n",
              "      <th>1</th>\n",
              "      <td>11/09/2022</td>\n",
              "      <td>01/01/2020</td>\n",
              "      <td>11/05/2022</td>\n",
              "      <td>By Total</td>\n",
              "      <td>2020.973684</td>\n",
              "      <td>6.342857</td>\n",
              "      <td>United States</td>\n",
              "      <td>All Sexes</td>\n",
              "      <td>Under 1 year</td>\n",
              "      <td>380.0</td>\n",
              "      <td>55203.0</td>\n",
              "      <td>740.0</td>\n",
              "      <td>62.0</td>\n",
              "      <td>43.0</td>\n",
              "      <td>1099.0</td>\n",
              "      <td>NaN</td>\n",
              "    </tr>\n",
              "    <tr>\n",
              "      <th>2</th>\n",
              "      <td>11/09/2022</td>\n",
              "      <td>01/01/2020</td>\n",
              "      <td>11/05/2022</td>\n",
              "      <td>By Total</td>\n",
              "      <td>2020.973684</td>\n",
              "      <td>6.342857</td>\n",
              "      <td>United States</td>\n",
              "      <td>All Sexes</td>\n",
              "      <td>0-17 years</td>\n",
              "      <td>1350.0</td>\n",
              "      <td>98109.0</td>\n",
              "      <td>2043.0</td>\n",
              "      <td>343.0</td>\n",
              "      <td>270.0</td>\n",
              "      <td>3306.0</td>\n",
              "      <td>NaN</td>\n",
              "    </tr>\n",
              "    <tr>\n",
              "      <th>3</th>\n",
              "      <td>11/09/2022</td>\n",
              "      <td>01/01/2020</td>\n",
              "      <td>11/05/2022</td>\n",
              "      <td>By Total</td>\n",
              "      <td>2020.973684</td>\n",
              "      <td>6.342857</td>\n",
              "      <td>United States</td>\n",
              "      <td>All Sexes</td>\n",
              "      <td>1-4 years</td>\n",
              "      <td>202.0</td>\n",
              "      <td>10536.0</td>\n",
              "      <td>434.0</td>\n",
              "      <td>48.0</td>\n",
              "      <td>89.0</td>\n",
              "      <td>673.0</td>\n",
              "      <td>NaN</td>\n",
              "    </tr>\n",
              "    <tr>\n",
              "      <th>4</th>\n",
              "      <td>11/09/2022</td>\n",
              "      <td>01/01/2020</td>\n",
              "      <td>11/05/2022</td>\n",
              "      <td>By Total</td>\n",
              "      <td>2020.973684</td>\n",
              "      <td>6.342857</td>\n",
              "      <td>United States</td>\n",
              "      <td>All Sexes</td>\n",
              "      <td>5-14 years</td>\n",
              "      <td>423.0</td>\n",
              "      <td>16461.0</td>\n",
              "      <td>569.0</td>\n",
              "      <td>121.0</td>\n",
              "      <td>110.0</td>\n",
              "      <td>974.0</td>\n",
              "      <td>NaN</td>\n",
              "    </tr>\n",
              "  </tbody>\n",
              "</table>\n",
              "</div>\n",
              "    <div class=\"colab-df-buttons\">\n",
              "\n",
              "  <div class=\"colab-df-container\">\n",
              "    <button class=\"colab-df-convert\" onclick=\"convertToInteractive('df-5062627a-6fc6-4f49-9143-a976ea48c578')\"\n",
              "            title=\"Convert this dataframe to an interactive table.\"\n",
              "            style=\"display:none;\">\n",
              "\n",
              "  <svg xmlns=\"http://www.w3.org/2000/svg\" height=\"24px\" viewBox=\"0 -960 960 960\">\n",
              "    <path d=\"M120-120v-720h720v720H120Zm60-500h600v-160H180v160Zm220 220h160v-160H400v160Zm0 220h160v-160H400v160ZM180-400h160v-160H180v160Zm440 0h160v-160H620v160ZM180-180h160v-160H180v160Zm440 0h160v-160H620v160Z\"/>\n",
              "  </svg>\n",
              "    </button>\n",
              "\n",
              "  <style>\n",
              "    .colab-df-container {\n",
              "      display:flex;\n",
              "      gap: 12px;\n",
              "    }\n",
              "\n",
              "    .colab-df-convert {\n",
              "      background-color: #E8F0FE;\n",
              "      border: none;\n",
              "      border-radius: 50%;\n",
              "      cursor: pointer;\n",
              "      display: none;\n",
              "      fill: #1967D2;\n",
              "      height: 32px;\n",
              "      padding: 0 0 0 0;\n",
              "      width: 32px;\n",
              "    }\n",
              "\n",
              "    .colab-df-convert:hover {\n",
              "      background-color: #E2EBFA;\n",
              "      box-shadow: 0px 1px 2px rgba(60, 64, 67, 0.3), 0px 1px 3px 1px rgba(60, 64, 67, 0.15);\n",
              "      fill: #174EA6;\n",
              "    }\n",
              "\n",
              "    .colab-df-buttons div {\n",
              "      margin-bottom: 4px;\n",
              "    }\n",
              "\n",
              "    [theme=dark] .colab-df-convert {\n",
              "      background-color: #3B4455;\n",
              "      fill: #D2E3FC;\n",
              "    }\n",
              "\n",
              "    [theme=dark] .colab-df-convert:hover {\n",
              "      background-color: #434B5C;\n",
              "      box-shadow: 0px 1px 3px 1px rgba(0, 0, 0, 0.15);\n",
              "      filter: drop-shadow(0px 1px 2px rgba(0, 0, 0, 0.3));\n",
              "      fill: #FFFFFF;\n",
              "    }\n",
              "  </style>\n",
              "\n",
              "    <script>\n",
              "      const buttonEl =\n",
              "        document.querySelector('#df-5062627a-6fc6-4f49-9143-a976ea48c578 button.colab-df-convert');\n",
              "      buttonEl.style.display =\n",
              "        google.colab.kernel.accessAllowed ? 'block' : 'none';\n",
              "\n",
              "      async function convertToInteractive(key) {\n",
              "        const element = document.querySelector('#df-5062627a-6fc6-4f49-9143-a976ea48c578');\n",
              "        const dataTable =\n",
              "          await google.colab.kernel.invokeFunction('convertToInteractive',\n",
              "                                                    [key], {});\n",
              "        if (!dataTable) return;\n",
              "\n",
              "        const docLinkHtml = 'Like what you see? Visit the ' +\n",
              "          '<a target=\"_blank\" href=https://colab.research.google.com/notebooks/data_table.ipynb>data table notebook</a>'\n",
              "          + ' to learn more about interactive tables.';\n",
              "        element.innerHTML = '';\n",
              "        dataTable['output_type'] = 'display_data';\n",
              "        await google.colab.output.renderOutput(dataTable, element);\n",
              "        const docLink = document.createElement('div');\n",
              "        docLink.innerHTML = docLinkHtml;\n",
              "        element.appendChild(docLink);\n",
              "      }\n",
              "    </script>\n",
              "  </div>\n",
              "\n",
              "\n",
              "<div id=\"df-a7a3ee6a-6e93-43aa-9050-b392d7c99a8d\">\n",
              "  <button class=\"colab-df-quickchart\" onclick=\"quickchart('df-a7a3ee6a-6e93-43aa-9050-b392d7c99a8d')\"\n",
              "            title=\"Suggest charts\"\n",
              "            style=\"display:none;\">\n",
              "\n",
              "<svg xmlns=\"http://www.w3.org/2000/svg\" height=\"24px\"viewBox=\"0 0 24 24\"\n",
              "     width=\"24px\">\n",
              "    <g>\n",
              "        <path d=\"M19 3H5c-1.1 0-2 .9-2 2v14c0 1.1.9 2 2 2h14c1.1 0 2-.9 2-2V5c0-1.1-.9-2-2-2zM9 17H7v-7h2v7zm4 0h-2V7h2v10zm4 0h-2v-4h2v4z\"/>\n",
              "    </g>\n",
              "</svg>\n",
              "  </button>\n",
              "\n",
              "<style>\n",
              "  .colab-df-quickchart {\n",
              "      --bg-color: #E8F0FE;\n",
              "      --fill-color: #1967D2;\n",
              "      --hover-bg-color: #E2EBFA;\n",
              "      --hover-fill-color: #174EA6;\n",
              "      --disabled-fill-color: #AAA;\n",
              "      --disabled-bg-color: #DDD;\n",
              "  }\n",
              "\n",
              "  [theme=dark] .colab-df-quickchart {\n",
              "      --bg-color: #3B4455;\n",
              "      --fill-color: #D2E3FC;\n",
              "      --hover-bg-color: #434B5C;\n",
              "      --hover-fill-color: #FFFFFF;\n",
              "      --disabled-bg-color: #3B4455;\n",
              "      --disabled-fill-color: #666;\n",
              "  }\n",
              "\n",
              "  .colab-df-quickchart {\n",
              "    background-color: var(--bg-color);\n",
              "    border: none;\n",
              "    border-radius: 50%;\n",
              "    cursor: pointer;\n",
              "    display: none;\n",
              "    fill: var(--fill-color);\n",
              "    height: 32px;\n",
              "    padding: 0;\n",
              "    width: 32px;\n",
              "  }\n",
              "\n",
              "  .colab-df-quickchart:hover {\n",
              "    background-color: var(--hover-bg-color);\n",
              "    box-shadow: 0 1px 2px rgba(60, 64, 67, 0.3), 0 1px 3px 1px rgba(60, 64, 67, 0.15);\n",
              "    fill: var(--button-hover-fill-color);\n",
              "  }\n",
              "\n",
              "  .colab-df-quickchart-complete:disabled,\n",
              "  .colab-df-quickchart-complete:disabled:hover {\n",
              "    background-color: var(--disabled-bg-color);\n",
              "    fill: var(--disabled-fill-color);\n",
              "    box-shadow: none;\n",
              "  }\n",
              "\n",
              "  .colab-df-spinner {\n",
              "    border: 2px solid var(--fill-color);\n",
              "    border-color: transparent;\n",
              "    border-bottom-color: var(--fill-color);\n",
              "    animation:\n",
              "      spin 1s steps(1) infinite;\n",
              "  }\n",
              "\n",
              "  @keyframes spin {\n",
              "    0% {\n",
              "      border-color: transparent;\n",
              "      border-bottom-color: var(--fill-color);\n",
              "      border-left-color: var(--fill-color);\n",
              "    }\n",
              "    20% {\n",
              "      border-color: transparent;\n",
              "      border-left-color: var(--fill-color);\n",
              "      border-top-color: var(--fill-color);\n",
              "    }\n",
              "    30% {\n",
              "      border-color: transparent;\n",
              "      border-left-color: var(--fill-color);\n",
              "      border-top-color: var(--fill-color);\n",
              "      border-right-color: var(--fill-color);\n",
              "    }\n",
              "    40% {\n",
              "      border-color: transparent;\n",
              "      border-right-color: var(--fill-color);\n",
              "      border-top-color: var(--fill-color);\n",
              "    }\n",
              "    60% {\n",
              "      border-color: transparent;\n",
              "      border-right-color: var(--fill-color);\n",
              "    }\n",
              "    80% {\n",
              "      border-color: transparent;\n",
              "      border-right-color: var(--fill-color);\n",
              "      border-bottom-color: var(--fill-color);\n",
              "    }\n",
              "    90% {\n",
              "      border-color: transparent;\n",
              "      border-bottom-color: var(--fill-color);\n",
              "    }\n",
              "  }\n",
              "</style>\n",
              "\n",
              "  <script>\n",
              "    async function quickchart(key) {\n",
              "      const quickchartButtonEl =\n",
              "        document.querySelector('#' + key + ' button');\n",
              "      quickchartButtonEl.disabled = true;  // To prevent multiple clicks.\n",
              "      quickchartButtonEl.classList.add('colab-df-spinner');\n",
              "      try {\n",
              "        const charts = await google.colab.kernel.invokeFunction(\n",
              "            'suggestCharts', [key], {});\n",
              "      } catch (error) {\n",
              "        console.error('Error during call to suggestCharts:', error);\n",
              "      }\n",
              "      quickchartButtonEl.classList.remove('colab-df-spinner');\n",
              "      quickchartButtonEl.classList.add('colab-df-quickchart-complete');\n",
              "    }\n",
              "    (() => {\n",
              "      let quickchartButtonEl =\n",
              "        document.querySelector('#df-a7a3ee6a-6e93-43aa-9050-b392d7c99a8d button');\n",
              "      quickchartButtonEl.style.display =\n",
              "        google.colab.kernel.accessAllowed ? 'block' : 'none';\n",
              "    })();\n",
              "  </script>\n",
              "</div>\n",
              "    </div>\n",
              "  </div>\n"
            ]
          },
          "metadata": {},
          "execution_count": 36
        }
      ]
    },
    {
      "cell_type": "code",
      "source": [
        "df.tail()"
      ],
      "metadata": {
        "colab": {
          "base_uri": "https://localhost:8080/",
          "height": 398
        },
        "id": "AViWCgINMirc",
        "outputId": "826f4c96-9db1-4924-a830-f6e76b99d0fd"
      },
      "execution_count": 38,
      "outputs": [
        {
          "output_type": "execute_result",
          "data": {
            "text/plain": [
              "        Data As Of  Start Date    End Date     Group    Year  Month  \\\n",
              "107401  11/09/2022  11/01/2022  11/05/2022  By Month  2022.0   11.0   \n",
              "107402  11/09/2022  11/01/2022  11/05/2022  By Month  2022.0   11.0   \n",
              "107403  11/09/2022  11/01/2022  11/05/2022  By Month  2022.0   11.0   \n",
              "107404  11/09/2022  11/01/2022  11/05/2022  By Month  2022.0   11.0   \n",
              "107405  11/09/2022  11/01/2022  11/05/2022  By Month  2022.0   11.0   \n",
              "\n",
              "              State     Sex          Age Group  COVID-19 Deaths  Total Deaths  \\\n",
              "107401  Puerto Rico  Female        50-64 years         0.000000    2830.76971   \n",
              "107402  Puerto Rico  Female        55-64 years         0.000000    2830.76971   \n",
              "107403  Puerto Rico  Female        65-74 years         0.000000      12.00000   \n",
              "107404  Puerto Rico  Female        75-84 years       367.051648      15.00000   \n",
              "107405  Puerto Rico  Female  85 years and over       367.051648      11.00000   \n",
              "\n",
              "        Pneumonia Deaths  Pneumonia and COVID-19 Deaths  Influenza Deaths  \\\n",
              "107401          0.000000                        0.00000          0.000000   \n",
              "107402          0.000000                        0.00000          0.000000   \n",
              "107403        358.587731                        0.00000          0.000000   \n",
              "107404        358.587731                        0.00000          0.000000   \n",
              "107405        358.587731                      184.16422          3.525722   \n",
              "\n",
              "        Pneumonia, Influenza, or COVID-19 Deaths  \\\n",
              "107401                                  0.000000   \n",
              "107402                                  0.000000   \n",
              "107403                                548.028506   \n",
              "107404                                548.028506   \n",
              "107405                                548.028506   \n",
              "\n",
              "                                                 Footnote  \n",
              "107401  One or more data cells have counts between 1-9...  \n",
              "107402  One or more data cells have counts between 1-9...  \n",
              "107403  One or more data cells have counts between 1-9...  \n",
              "107404  One or more data cells have counts between 1-9...  \n",
              "107405  One or more data cells have counts between 1-9...  "
            ],
            "text/html": [
              "\n",
              "  <div id=\"df-c5ec5241-ccf6-4689-b9da-730ebf407c00\" class=\"colab-df-container\">\n",
              "    <div>\n",
              "<style scoped>\n",
              "    .dataframe tbody tr th:only-of-type {\n",
              "        vertical-align: middle;\n",
              "    }\n",
              "\n",
              "    .dataframe tbody tr th {\n",
              "        vertical-align: top;\n",
              "    }\n",
              "\n",
              "    .dataframe thead th {\n",
              "        text-align: right;\n",
              "    }\n",
              "</style>\n",
              "<table border=\"1\" class=\"dataframe\">\n",
              "  <thead>\n",
              "    <tr style=\"text-align: right;\">\n",
              "      <th></th>\n",
              "      <th>Data As Of</th>\n",
              "      <th>Start Date</th>\n",
              "      <th>End Date</th>\n",
              "      <th>Group</th>\n",
              "      <th>Year</th>\n",
              "      <th>Month</th>\n",
              "      <th>State</th>\n",
              "      <th>Sex</th>\n",
              "      <th>Age Group</th>\n",
              "      <th>COVID-19 Deaths</th>\n",
              "      <th>Total Deaths</th>\n",
              "      <th>Pneumonia Deaths</th>\n",
              "      <th>Pneumonia and COVID-19 Deaths</th>\n",
              "      <th>Influenza Deaths</th>\n",
              "      <th>Pneumonia, Influenza, or COVID-19 Deaths</th>\n",
              "      <th>Footnote</th>\n",
              "    </tr>\n",
              "  </thead>\n",
              "  <tbody>\n",
              "    <tr>\n",
              "      <th>107401</th>\n",
              "      <td>11/09/2022</td>\n",
              "      <td>11/01/2022</td>\n",
              "      <td>11/05/2022</td>\n",
              "      <td>By Month</td>\n",
              "      <td>2022.0</td>\n",
              "      <td>11.0</td>\n",
              "      <td>Puerto Rico</td>\n",
              "      <td>Female</td>\n",
              "      <td>50-64 years</td>\n",
              "      <td>0.000000</td>\n",
              "      <td>2830.76971</td>\n",
              "      <td>0.000000</td>\n",
              "      <td>0.00000</td>\n",
              "      <td>0.000000</td>\n",
              "      <td>0.000000</td>\n",
              "      <td>One or more data cells have counts between 1-9...</td>\n",
              "    </tr>\n",
              "    <tr>\n",
              "      <th>107402</th>\n",
              "      <td>11/09/2022</td>\n",
              "      <td>11/01/2022</td>\n",
              "      <td>11/05/2022</td>\n",
              "      <td>By Month</td>\n",
              "      <td>2022.0</td>\n",
              "      <td>11.0</td>\n",
              "      <td>Puerto Rico</td>\n",
              "      <td>Female</td>\n",
              "      <td>55-64 years</td>\n",
              "      <td>0.000000</td>\n",
              "      <td>2830.76971</td>\n",
              "      <td>0.000000</td>\n",
              "      <td>0.00000</td>\n",
              "      <td>0.000000</td>\n",
              "      <td>0.000000</td>\n",
              "      <td>One or more data cells have counts between 1-9...</td>\n",
              "    </tr>\n",
              "    <tr>\n",
              "      <th>107403</th>\n",
              "      <td>11/09/2022</td>\n",
              "      <td>11/01/2022</td>\n",
              "      <td>11/05/2022</td>\n",
              "      <td>By Month</td>\n",
              "      <td>2022.0</td>\n",
              "      <td>11.0</td>\n",
              "      <td>Puerto Rico</td>\n",
              "      <td>Female</td>\n",
              "      <td>65-74 years</td>\n",
              "      <td>0.000000</td>\n",
              "      <td>12.00000</td>\n",
              "      <td>358.587731</td>\n",
              "      <td>0.00000</td>\n",
              "      <td>0.000000</td>\n",
              "      <td>548.028506</td>\n",
              "      <td>One or more data cells have counts between 1-9...</td>\n",
              "    </tr>\n",
              "    <tr>\n",
              "      <th>107404</th>\n",
              "      <td>11/09/2022</td>\n",
              "      <td>11/01/2022</td>\n",
              "      <td>11/05/2022</td>\n",
              "      <td>By Month</td>\n",
              "      <td>2022.0</td>\n",
              "      <td>11.0</td>\n",
              "      <td>Puerto Rico</td>\n",
              "      <td>Female</td>\n",
              "      <td>75-84 years</td>\n",
              "      <td>367.051648</td>\n",
              "      <td>15.00000</td>\n",
              "      <td>358.587731</td>\n",
              "      <td>0.00000</td>\n",
              "      <td>0.000000</td>\n",
              "      <td>548.028506</td>\n",
              "      <td>One or more data cells have counts between 1-9...</td>\n",
              "    </tr>\n",
              "    <tr>\n",
              "      <th>107405</th>\n",
              "      <td>11/09/2022</td>\n",
              "      <td>11/01/2022</td>\n",
              "      <td>11/05/2022</td>\n",
              "      <td>By Month</td>\n",
              "      <td>2022.0</td>\n",
              "      <td>11.0</td>\n",
              "      <td>Puerto Rico</td>\n",
              "      <td>Female</td>\n",
              "      <td>85 years and over</td>\n",
              "      <td>367.051648</td>\n",
              "      <td>11.00000</td>\n",
              "      <td>358.587731</td>\n",
              "      <td>184.16422</td>\n",
              "      <td>3.525722</td>\n",
              "      <td>548.028506</td>\n",
              "      <td>One or more data cells have counts between 1-9...</td>\n",
              "    </tr>\n",
              "  </tbody>\n",
              "</table>\n",
              "</div>\n",
              "    <div class=\"colab-df-buttons\">\n",
              "\n",
              "  <div class=\"colab-df-container\">\n",
              "    <button class=\"colab-df-convert\" onclick=\"convertToInteractive('df-c5ec5241-ccf6-4689-b9da-730ebf407c00')\"\n",
              "            title=\"Convert this dataframe to an interactive table.\"\n",
              "            style=\"display:none;\">\n",
              "\n",
              "  <svg xmlns=\"http://www.w3.org/2000/svg\" height=\"24px\" viewBox=\"0 -960 960 960\">\n",
              "    <path d=\"M120-120v-720h720v720H120Zm60-500h600v-160H180v160Zm220 220h160v-160H400v160Zm0 220h160v-160H400v160ZM180-400h160v-160H180v160Zm440 0h160v-160H620v160ZM180-180h160v-160H180v160Zm440 0h160v-160H620v160Z\"/>\n",
              "  </svg>\n",
              "    </button>\n",
              "\n",
              "  <style>\n",
              "    .colab-df-container {\n",
              "      display:flex;\n",
              "      gap: 12px;\n",
              "    }\n",
              "\n",
              "    .colab-df-convert {\n",
              "      background-color: #E8F0FE;\n",
              "      border: none;\n",
              "      border-radius: 50%;\n",
              "      cursor: pointer;\n",
              "      display: none;\n",
              "      fill: #1967D2;\n",
              "      height: 32px;\n",
              "      padding: 0 0 0 0;\n",
              "      width: 32px;\n",
              "    }\n",
              "\n",
              "    .colab-df-convert:hover {\n",
              "      background-color: #E2EBFA;\n",
              "      box-shadow: 0px 1px 2px rgba(60, 64, 67, 0.3), 0px 1px 3px 1px rgba(60, 64, 67, 0.15);\n",
              "      fill: #174EA6;\n",
              "    }\n",
              "\n",
              "    .colab-df-buttons div {\n",
              "      margin-bottom: 4px;\n",
              "    }\n",
              "\n",
              "    [theme=dark] .colab-df-convert {\n",
              "      background-color: #3B4455;\n",
              "      fill: #D2E3FC;\n",
              "    }\n",
              "\n",
              "    [theme=dark] .colab-df-convert:hover {\n",
              "      background-color: #434B5C;\n",
              "      box-shadow: 0px 1px 3px 1px rgba(0, 0, 0, 0.15);\n",
              "      filter: drop-shadow(0px 1px 2px rgba(0, 0, 0, 0.3));\n",
              "      fill: #FFFFFF;\n",
              "    }\n",
              "  </style>\n",
              "\n",
              "    <script>\n",
              "      const buttonEl =\n",
              "        document.querySelector('#df-c5ec5241-ccf6-4689-b9da-730ebf407c00 button.colab-df-convert');\n",
              "      buttonEl.style.display =\n",
              "        google.colab.kernel.accessAllowed ? 'block' : 'none';\n",
              "\n",
              "      async function convertToInteractive(key) {\n",
              "        const element = document.querySelector('#df-c5ec5241-ccf6-4689-b9da-730ebf407c00');\n",
              "        const dataTable =\n",
              "          await google.colab.kernel.invokeFunction('convertToInteractive',\n",
              "                                                    [key], {});\n",
              "        if (!dataTable) return;\n",
              "\n",
              "        const docLinkHtml = 'Like what you see? Visit the ' +\n",
              "          '<a target=\"_blank\" href=https://colab.research.google.com/notebooks/data_table.ipynb>data table notebook</a>'\n",
              "          + ' to learn more about interactive tables.';\n",
              "        element.innerHTML = '';\n",
              "        dataTable['output_type'] = 'display_data';\n",
              "        await google.colab.output.renderOutput(dataTable, element);\n",
              "        const docLink = document.createElement('div');\n",
              "        docLink.innerHTML = docLinkHtml;\n",
              "        element.appendChild(docLink);\n",
              "      }\n",
              "    </script>\n",
              "  </div>\n",
              "\n",
              "\n",
              "<div id=\"df-504a2e0c-7263-46f1-9ba4-48364f54e33b\">\n",
              "  <button class=\"colab-df-quickchart\" onclick=\"quickchart('df-504a2e0c-7263-46f1-9ba4-48364f54e33b')\"\n",
              "            title=\"Suggest charts\"\n",
              "            style=\"display:none;\">\n",
              "\n",
              "<svg xmlns=\"http://www.w3.org/2000/svg\" height=\"24px\"viewBox=\"0 0 24 24\"\n",
              "     width=\"24px\">\n",
              "    <g>\n",
              "        <path d=\"M19 3H5c-1.1 0-2 .9-2 2v14c0 1.1.9 2 2 2h14c1.1 0 2-.9 2-2V5c0-1.1-.9-2-2-2zM9 17H7v-7h2v7zm4 0h-2V7h2v10zm4 0h-2v-4h2v4z\"/>\n",
              "    </g>\n",
              "</svg>\n",
              "  </button>\n",
              "\n",
              "<style>\n",
              "  .colab-df-quickchart {\n",
              "      --bg-color: #E8F0FE;\n",
              "      --fill-color: #1967D2;\n",
              "      --hover-bg-color: #E2EBFA;\n",
              "      --hover-fill-color: #174EA6;\n",
              "      --disabled-fill-color: #AAA;\n",
              "      --disabled-bg-color: #DDD;\n",
              "  }\n",
              "\n",
              "  [theme=dark] .colab-df-quickchart {\n",
              "      --bg-color: #3B4455;\n",
              "      --fill-color: #D2E3FC;\n",
              "      --hover-bg-color: #434B5C;\n",
              "      --hover-fill-color: #FFFFFF;\n",
              "      --disabled-bg-color: #3B4455;\n",
              "      --disabled-fill-color: #666;\n",
              "  }\n",
              "\n",
              "  .colab-df-quickchart {\n",
              "    background-color: var(--bg-color);\n",
              "    border: none;\n",
              "    border-radius: 50%;\n",
              "    cursor: pointer;\n",
              "    display: none;\n",
              "    fill: var(--fill-color);\n",
              "    height: 32px;\n",
              "    padding: 0;\n",
              "    width: 32px;\n",
              "  }\n",
              "\n",
              "  .colab-df-quickchart:hover {\n",
              "    background-color: var(--hover-bg-color);\n",
              "    box-shadow: 0 1px 2px rgba(60, 64, 67, 0.3), 0 1px 3px 1px rgba(60, 64, 67, 0.15);\n",
              "    fill: var(--button-hover-fill-color);\n",
              "  }\n",
              "\n",
              "  .colab-df-quickchart-complete:disabled,\n",
              "  .colab-df-quickchart-complete:disabled:hover {\n",
              "    background-color: var(--disabled-bg-color);\n",
              "    fill: var(--disabled-fill-color);\n",
              "    box-shadow: none;\n",
              "  }\n",
              "\n",
              "  .colab-df-spinner {\n",
              "    border: 2px solid var(--fill-color);\n",
              "    border-color: transparent;\n",
              "    border-bottom-color: var(--fill-color);\n",
              "    animation:\n",
              "      spin 1s steps(1) infinite;\n",
              "  }\n",
              "\n",
              "  @keyframes spin {\n",
              "    0% {\n",
              "      border-color: transparent;\n",
              "      border-bottom-color: var(--fill-color);\n",
              "      border-left-color: var(--fill-color);\n",
              "    }\n",
              "    20% {\n",
              "      border-color: transparent;\n",
              "      border-left-color: var(--fill-color);\n",
              "      border-top-color: var(--fill-color);\n",
              "    }\n",
              "    30% {\n",
              "      border-color: transparent;\n",
              "      border-left-color: var(--fill-color);\n",
              "      border-top-color: var(--fill-color);\n",
              "      border-right-color: var(--fill-color);\n",
              "    }\n",
              "    40% {\n",
              "      border-color: transparent;\n",
              "      border-right-color: var(--fill-color);\n",
              "      border-top-color: var(--fill-color);\n",
              "    }\n",
              "    60% {\n",
              "      border-color: transparent;\n",
              "      border-right-color: var(--fill-color);\n",
              "    }\n",
              "    80% {\n",
              "      border-color: transparent;\n",
              "      border-right-color: var(--fill-color);\n",
              "      border-bottom-color: var(--fill-color);\n",
              "    }\n",
              "    90% {\n",
              "      border-color: transparent;\n",
              "      border-bottom-color: var(--fill-color);\n",
              "    }\n",
              "  }\n",
              "</style>\n",
              "\n",
              "  <script>\n",
              "    async function quickchart(key) {\n",
              "      const quickchartButtonEl =\n",
              "        document.querySelector('#' + key + ' button');\n",
              "      quickchartButtonEl.disabled = true;  // To prevent multiple clicks.\n",
              "      quickchartButtonEl.classList.add('colab-df-spinner');\n",
              "      try {\n",
              "        const charts = await google.colab.kernel.invokeFunction(\n",
              "            'suggestCharts', [key], {});\n",
              "      } catch (error) {\n",
              "        console.error('Error during call to suggestCharts:', error);\n",
              "      }\n",
              "      quickchartButtonEl.classList.remove('colab-df-spinner');\n",
              "      quickchartButtonEl.classList.add('colab-df-quickchart-complete');\n",
              "    }\n",
              "    (() => {\n",
              "      let quickchartButtonEl =\n",
              "        document.querySelector('#df-504a2e0c-7263-46f1-9ba4-48364f54e33b button');\n",
              "      quickchartButtonEl.style.display =\n",
              "        google.colab.kernel.accessAllowed ? 'block' : 'none';\n",
              "    })();\n",
              "  </script>\n",
              "</div>\n",
              "    </div>\n",
              "  </div>\n"
            ]
          },
          "metadata": {},
          "execution_count": 38
        }
      ]
    },
    {
      "cell_type": "markdown",
      "source": [
        "The dataset is clean without missing value. All the missing values have been filled up"
      ],
      "metadata": {
        "id": "PIV52xkCQ46M"
      }
    },
    {
      "cell_type": "code",
      "source": [
        "df.shape"
      ],
      "metadata": {
        "colab": {
          "base_uri": "https://localhost:8080/"
        },
        "id": "gLsmPYQaMiwy",
        "outputId": "66531d66-4d56-4680-ef2c-84c40b3a6e19"
      },
      "execution_count": 40,
      "outputs": [
        {
          "output_type": "execute_result",
          "data": {
            "text/plain": [
              "(107406, 16)"
            ]
          },
          "metadata": {},
          "execution_count": 40
        }
      ]
    },
    {
      "cell_type": "markdown",
      "source": [
        "The total values are 107406 with 16 colums"
      ],
      "metadata": {
        "id": "FGjpR8mMRhHz"
      }
    },
    {
      "cell_type": "markdown",
      "source": [
        "#Task18"
      ],
      "metadata": {
        "id": "8tNulvBkH6Yq"
      }
    },
    {
      "cell_type": "markdown",
      "source": [
        "# To calculate the mean of Total Deaths"
      ],
      "metadata": {
        "id": "itI6K3E9TUv5"
      }
    },
    {
      "cell_type": "code",
      "source": [
        "df_TotalDeaths = 'Total Deaths'"
      ],
      "metadata": {
        "id": "j3KZWYR8Mi3q"
      },
      "execution_count": 41,
      "outputs": []
    },
    {
      "cell_type": "code",
      "source": [
        "TotalDeaths_mean = df[df_TotalDeaths].mean()"
      ],
      "metadata": {
        "id": "h04wPLzARJNE"
      },
      "execution_count": 42,
      "outputs": []
    },
    {
      "cell_type": "code",
      "source": [
        "print(TotalDeaths_mean)"
      ],
      "metadata": {
        "colab": {
          "base_uri": "https://localhost:8080/"
        },
        "id": "otRnW3iERJZy",
        "outputId": "3660a428-09f5-4da4-ba04-25844b721cdf"
      },
      "execution_count": 43,
      "outputs": [
        {
          "output_type": "stream",
          "name": "stdout",
          "text": [
            "2830.7697103562336\n"
          ]
        }
      ]
    },
    {
      "cell_type": "markdown",
      "source": [
        "The 'Provisional_COVID-19_Deaths_by_Sex_and_Age' dataset reveals that the mean of the Total Deaths is approximately 2830.77. This statistical measure provides insight into the average mortality across different demographic groups, emphasizing the significance of understanding COVID-19's impact on various age and gender categories."
      ],
      "metadata": {
        "id": "ZJNzvnM0ID4j"
      }
    },
    {
      "cell_type": "markdown",
      "source": [
        "#Task19"
      ],
      "metadata": {
        "id": "NumoeMbIIjp8"
      }
    },
    {
      "cell_type": "markdown",
      "source": [
        "# To calculate for median of COVID-19 Deaths colum"
      ],
      "metadata": {
        "id": "KiZ49N7mbDuE"
      }
    },
    {
      "cell_type": "code",
      "source": [
        "df_COVID_Deaths = 'COVID-19 Deaths'"
      ],
      "metadata": {
        "id": "qajSB6W4RKBO"
      },
      "execution_count": null,
      "outputs": []
    },
    {
      "cell_type": "code",
      "source": [
        "COVID_Deaths_median = df[df_COVID_Deaths].median()"
      ],
      "metadata": {
        "id": "Y8dUIZW9RKHp"
      },
      "execution_count": null,
      "outputs": []
    },
    {
      "cell_type": "code",
      "source": [
        "print(COVID_Deaths_median)"
      ],
      "metadata": {
        "colab": {
          "base_uri": "https://localhost:8080/"
        },
        "id": "oXz6JNgrRKQe",
        "outputId": "6fecd6f8-e76d-40c5-e8a5-2d8d4a938df1"
      },
      "execution_count": null,
      "outputs": [
        {
          "output_type": "stream",
          "name": "stdout",
          "text": [
            "38.0\n"
          ]
        }
      ]
    },
    {
      "cell_type": "markdown",
      "source": [
        "In the 'Provisional_COVID-19_Deaths_by_Sex_and_Age' dataset, the median for 'COVID-19 Deaths' is 38.0. This central tendency measure provides a representative value, indicating the middle point of the distribution. Understanding the median contributes to a more comprehension of mortality patterns across different demographics."
      ],
      "metadata": {
        "id": "T5JP8xY7JECY"
      }
    },
    {
      "cell_type": "markdown",
      "source": [
        "#Task20"
      ],
      "metadata": {
        "id": "XJSUTcI8K4ia"
      }
    },
    {
      "cell_type": "markdown",
      "source": [
        "# Calculating for the mode of the Sex with higher death occurance"
      ],
      "metadata": {
        "id": "yDa7ELueeUsm"
      }
    },
    {
      "cell_type": "code",
      "source": [
        "df_Sex = 'Sex'"
      ],
      "metadata": {
        "id": "pcksJTj1eH_J"
      },
      "execution_count": null,
      "outputs": []
    },
    {
      "cell_type": "code",
      "source": [
        "Sex_mode = df[df_Sex].mode()[0]"
      ],
      "metadata": {
        "id": "gWi2XBdxeIGy"
      },
      "execution_count": null,
      "outputs": []
    },
    {
      "cell_type": "code",
      "source": [
        "print(Sex_mode)"
      ],
      "metadata": {
        "colab": {
          "base_uri": "https://localhost:8080/"
        },
        "id": "f2qJAjzbeIRs",
        "outputId": "b9f50ca6-4176-47f9-9918-3829357f8cda"
      },
      "execution_count": null,
      "outputs": [
        {
          "output_type": "stream",
          "name": "stdout",
          "text": [
            "All Sexes\n"
          ]
        }
      ]
    },
    {
      "cell_type": "markdown",
      "source": [
        "The 'Provisional_COVID-19_Deaths_by_Sex_and_Age' dataset reveals that the mode for 'Sex' is \"All Sexes.\" This statistical mode indicates the most frequently occurring category, emphasizing the predominant representation of data related to all sexes in the context of COVID-19 deaths."
      ],
      "metadata": {
        "id": "Ow1LwwLDLk3g"
      }
    },
    {
      "cell_type": "markdown",
      "source": [
        "#Task21"
      ],
      "metadata": {
        "id": "jKDIO2L2MTQt"
      }
    },
    {
      "cell_type": "markdown",
      "source": [
        "# To calculate the range of Influenza Deaths in the dataset"
      ],
      "metadata": {
        "id": "863qsQ6zldWn"
      }
    },
    {
      "cell_type": "code",
      "source": [
        "df_InfluenzaDeaths = 'Influenza Deaths'"
      ],
      "metadata": {
        "id": "WIBiUYl1eIgv"
      },
      "execution_count": null,
      "outputs": []
    },
    {
      "cell_type": "code",
      "source": [
        "InfluenzaDeaths_range = df[df_InfluenzaDeaths].max() - df[df_InfluenzaDeaths].min()"
      ],
      "metadata": {
        "id": "CVfUvnKOqlrg"
      },
      "execution_count": null,
      "outputs": []
    },
    {
      "cell_type": "code",
      "source": [
        "print(InfluenzaDeaths_range)"
      ],
      "metadata": {
        "colab": {
          "base_uri": "https://localhost:8080/"
        },
        "id": "ojA0cg8vqlzm",
        "outputId": "070104aa-fc40-4550-a8e7-bd7384724e42"
      },
      "execution_count": null,
      "outputs": [
        {
          "output_type": "stream",
          "name": "stdout",
          "text": [
            "12621.0\n"
          ]
        }
      ]
    },
    {
      "cell_type": "markdown",
      "source": [
        "The 'Provisional_COVID-19_Deaths_by_Sex_and_Age' dataset shows a range score of 12621.0 for Influenza Deaths. This range, representing the difference between the maximum and minimum values, highlights the variability in Influenza Deaths across different demographic categories, underscoring the dataset's diverse nature."
      ],
      "metadata": {
        "id": "Twbw4FCWMhnC"
      }
    },
    {
      "cell_type": "markdown",
      "source": [
        "#Task22"
      ],
      "metadata": {
        "id": "ChF-ZJ8mNUPi"
      }
    },
    {
      "cell_type": "markdown",
      "source": [
        "# To calculate the variance of Influenza Death spread of the dataset"
      ],
      "metadata": {
        "id": "IgiSVTF5s4PU"
      }
    },
    {
      "cell_type": "code",
      "source": [
        "df_InfluenzaDeaths = 'Influenza Deaths'"
      ],
      "metadata": {
        "id": "npChwoxVqmAa"
      },
      "execution_count": null,
      "outputs": []
    },
    {
      "cell_type": "code",
      "source": [
        "InfluenzaDeaths_variance = df[df_InfluenzaDeaths].var()"
      ],
      "metadata": {
        "id": "zUH_M2X4qmIm"
      },
      "execution_count": null,
      "outputs": []
    },
    {
      "cell_type": "code",
      "source": [
        "print(InfluenzaDeaths_variance)"
      ],
      "metadata": {
        "colab": {
          "base_uri": "https://localhost:8080/"
        },
        "id": "Zdy_6hyrqmSU",
        "outputId": "72d5cfec-a20c-4861-82e3-150a6948a80e"
      },
      "execution_count": null,
      "outputs": [
        {
          "output_type": "stream",
          "name": "stdout",
          "text": [
            "4752.604192810497\n"
          ]
        }
      ]
    },
    {
      "cell_type": "markdown",
      "source": [
        "The 'Provisional_COVID-19_Deaths_by_Sex_and_Age' dataset indicates a variance score of 4752.60 for Influenza Deaths. This statistical measure quantifies the spread or dispersion of Influenza Deaths data, providing valuable insights into the dataset's variability across diverse demographic categories."
      ],
      "metadata": {
        "id": "-zoV4xc8No3w"
      }
    },
    {
      "cell_type": "markdown",
      "source": [
        "#Task23"
      ],
      "metadata": {
        "id": "PGbKL7gQN9il"
      }
    },
    {
      "cell_type": "markdown",
      "source": [
        "# To calculate the Standard Deviation of Influenza Death , Deviation score the dataset"
      ],
      "metadata": {
        "id": "vjC5is_bvDJ0"
      }
    },
    {
      "cell_type": "code",
      "source": [
        "df_InfluenzaDeaths = 'Influenza Deaths'"
      ],
      "metadata": {
        "id": "xAm1ylgVqmlJ"
      },
      "execution_count": null,
      "outputs": []
    },
    {
      "cell_type": "code",
      "source": [
        "InfluenzaDeaths_std_dev = df[df_InfluenzaDeaths].std()"
      ],
      "metadata": {
        "id": "eZwN0BTQqmvS"
      },
      "execution_count": null,
      "outputs": []
    },
    {
      "cell_type": "code",
      "source": [
        "print(InfluenzaDeaths_std_dev)"
      ],
      "metadata": {
        "colab": {
          "base_uri": "https://localhost:8080/"
        },
        "id": "rVpRzyVCqm5T",
        "outputId": "86ea0264-7387-4b94-d571-b0c2d6d7ac12"
      },
      "execution_count": null,
      "outputs": [
        {
          "output_type": "stream",
          "name": "stdout",
          "text": [
            "68.93913397200821\n"
          ]
        }
      ]
    },
    {
      "cell_type": "markdown",
      "source": [
        "For the 'Provisional_COVID-19_Deaths_by_Sex_and_Age' dataset, the Standard Deviation score is 68.94 for Influenza Deaths. This measure of dispersion showcases the extent to which Influenza Deaths deviate from the mean, providing a understanding of the dataset's variability across demographic categories."
      ],
      "metadata": {
        "id": "x1QNPgiDOSTL"
      }
    },
    {
      "cell_type": "markdown",
      "source": [
        "#Task24"
      ],
      "metadata": {
        "id": "klFILjdcOyXU"
      }
    },
    {
      "cell_type": "markdown",
      "source": [
        "# To calculate the PMF of Influenza Death , the mass function value"
      ],
      "metadata": {
        "id": "4pguT5Fo0XTT"
      }
    },
    {
      "cell_type": "code",
      "source": [
        "df_InfluenzaDeaths = 'Influenza Deaths'"
      ],
      "metadata": {
        "id": "Sr0aLn6x0TIo"
      },
      "execution_count": null,
      "outputs": []
    },
    {
      "cell_type": "code",
      "source": [
        "pmf = df[df_InfluenzaDeaths].value_counts(normalize=True)"
      ],
      "metadata": {
        "id": "rgFCz37V0Tha"
      },
      "execution_count": null,
      "outputs": []
    },
    {
      "cell_type": "code",
      "source": [
        "print(pmf)"
      ],
      "metadata": {
        "colab": {
          "base_uri": "https://localhost:8080/"
        },
        "id": "xegnMkgD0Tr-",
        "outputId": "3b3e62af-056a-4a11-846c-24752115ea80"
      },
      "execution_count": null,
      "outputs": [
        {
          "output_type": "stream",
          "name": "stdout",
          "text": [
            "0.000000       0.779817\n",
            "3.525722       0.174348\n",
            "10.000000      0.002728\n",
            "11.000000      0.002411\n",
            "1.000000       0.002346\n",
            "                 ...   \n",
            "1803.000000    0.000009\n",
            "4545.000000    0.000009\n",
            "187.000000     0.000009\n",
            "448.000000     0.000009\n",
            "468.000000     0.000009\n",
            "Name: Influenza Deaths, Length: 379, dtype: float64\n"
          ]
        }
      ]
    },
    {
      "cell_type": "markdown",
      "source": [
        "The probability mass function for Influenza Deaths in the 'Provisional_COVID-19_Deaths_by_Sex_and_Age' dataset provides insights into the likelihood of different death counts. The probabilities range from 0.779817 for a count of 0 to smaller probabilities for higher counts. This distribution reveals the statistical likelihood of encountering specific Influenza Death counts, contributing to a comprehensive understanding of the dataset's variability and potential patterns. It serves as a valuable tool for assessing the probability of observing different outcomes related to Influenza Deaths within diverse demographic categories."
      ],
      "metadata": {
        "id": "YOj6f79nPCj7"
      }
    },
    {
      "cell_type": "markdown",
      "source": [
        "#Task25"
      ],
      "metadata": {
        "id": "IJw-97Z9QZcw"
      }
    },
    {
      "cell_type": "markdown",
      "source": [
        "#To calculate the PDF of Influenza Death , the distribution influenza death function values"
      ],
      "metadata": {
        "id": "6yo2X1Zl3FUW"
      }
    },
    {
      "cell_type": "code",
      "source": [
        "from scipy.stats import norm"
      ],
      "metadata": {
        "id": "iGguHyyD5D3C"
      },
      "execution_count": null,
      "outputs": []
    },
    {
      "cell_type": "code",
      "source": [
        "df_InfluenzaDeaths = 'Influenza Deaths'"
      ],
      "metadata": {
        "id": "f7MtcdOt0UFA"
      },
      "execution_count": null,
      "outputs": []
    },
    {
      "cell_type": "code",
      "source": [
        "pdf = norm.fit(df[df_InfluenzaDeaths])"
      ],
      "metadata": {
        "id": "ex3qFMWa4uH7"
      },
      "execution_count": null,
      "outputs": []
    },
    {
      "cell_type": "code",
      "source": [
        "print(pdf)"
      ],
      "metadata": {
        "colab": {
          "base_uri": "https://localhost:8080/"
        },
        "id": "JYqH0I5g4uXM",
        "outputId": "3d88a58a-fdbf-436f-a657-91933fce2018"
      },
      "execution_count": null,
      "outputs": [
        {
          "output_type": "stream",
          "name": "stdout",
          "text": [
            "(3.5257216959855655, 68.93881304350126)\n"
          ]
        }
      ]
    },
    {
      "cell_type": "markdown",
      "source": [
        "The probability density function (PDF) for 'Influenza Deaths' in the 'Provisional_COVID-19_Deaths_by_Sex_and_Age' dataset is defined by a mean of 3.53 and a standard deviation of 68.94. This PDF provides a statistical distribution of Influenza Deaths, indicating that the majority of values are expected to lie within one standard deviation of the mean. The mean and standard deviation serve as central parameters, offering valuable insights into the dataset's central tendency and spread. Understanding the PDF aids in gauging the likelihood of observing specific Influenza Death values, contributing to interpretation of the dataset."
      ],
      "metadata": {
        "id": "pbEqDJ4tQiD-"
      }
    }
  ]
}