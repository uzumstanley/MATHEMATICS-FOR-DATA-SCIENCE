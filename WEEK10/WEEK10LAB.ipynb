{
  "nbformat": 4,
  "nbformat_minor": 0,
  "metadata": {
    "colab": {
      "provenance": []
    },
    "kernelspec": {
      "name": "python3",
      "display_name": "Python 3"
    },
    "language_info": {
      "name": "python"
    }
  },
  "cells": [
    {
      "cell_type": "code",
      "execution_count": null,
      "metadata": {
        "id": "jLO2b_cqDrKO"
      },
      "outputs": [],
      "source": [
        "Continous probability distribution Lab"
      ]
    },
    {
      "cell_type": "code",
      "source": [
        "import numpy as np\n",
        "from scipy import stats\n",
        "import math as mt\n",
        "import random as rnd\n",
        "import math"
      ],
      "metadata": {
        "id": "xn9tMIgzD6cv"
      },
      "execution_count": 3,
      "outputs": []
    },
    {
      "cell_type": "code",
      "source": [
        "A = stats.norm(3,math.sqrt(16)) # Declare A to be a normal random variable\n",
        "print(A.pdf(4))                 # f(4), the probability density at 4\n",
        "print(A.cdf(2))                # f(2)"
      ],
      "metadata": {
        "colab": {
          "base_uri": "https://localhost:8080/"
        },
        "id": "M-f2IH0AEphf",
        "outputId": "6f89fcf2-f35e-4f63-df91-108ce0281c42"
      },
      "execution_count": 4,
      "outputs": [
        {
          "output_type": "stream",
          "name": "stdout",
          "text": [
            "0.09666702920071232\n",
            "0.4012936743170763\n"
          ]
        }
      ]
    },
    {
      "cell_type": "code",
      "source": [],
      "metadata": {
        "id": "Zsi5JLp5GDaC"
      },
      "execution_count": null,
      "outputs": []
    },
    {
      "cell_type": "code",
      "source": [
        "QUESTION 1 SOLUTION"
      ],
      "metadata": {
        "id": "Cg2bovpnGEJc"
      },
      "execution_count": null,
      "outputs": []
    },
    {
      "cell_type": "code",
      "source": [
        "import numpy as np\n",
        "from scipy import stats\n",
        "import math as mt\n",
        "import random as rnd\n",
        "import math"
      ],
      "metadata": {
        "id": "VKh4RROcGGu3"
      },
      "execution_count": 9,
      "outputs": []
    },
    {
      "cell_type": "code",
      "source": [
        "A = stats.norm(9,math.sqrt(64)) # Declare A to be a normal random variable\n",
        "print(A.pdf(6))                 # f(4), the probability density at 6\n",
        "print(A.cdf(6))                # f(2)"
      ],
      "metadata": {
        "colab": {
          "base_uri": "https://localhost:8080/"
        },
        "id": "SYlPIkr2GRSm",
        "outputId": "2b809b69-3e92-4021-8c72-2447c17fbba9"
      },
      "execution_count": 10,
      "outputs": [
        {
          "output_type": "stream",
          "name": "stdout",
          "text": [
            "0.04648188673372112\n",
            "0.3538302333272762\n"
          ]
        }
      ]
    },
    {
      "cell_type": "code",
      "source": [
        "QUESTION 2 SOLUTION"
      ],
      "metadata": {
        "id": "PQ8kqmYLHLJi"
      },
      "execution_count": null,
      "outputs": []
    },
    {
      "cell_type": "code",
      "source": [
        "import numpy as np\n",
        "from scipy import stats\n",
        "import math as mt\n",
        "import random as rnd\n",
        "import math"
      ],
      "metadata": {
        "id": "m8HvjQO5HNuS"
      },
      "execution_count": 12,
      "outputs": []
    },
    {
      "cell_type": "code",
      "source": [
        "A = stats.norm(10,math.sqrt(2)) # Declare A to be a normal random variable\n",
        "print(A.pdf(11))"
      ],
      "metadata": {
        "colab": {
          "base_uri": "https://localhost:8080/"
        },
        "id": "tW2NhcPSHwt-",
        "outputId": "70017a84-561f-4b28-d42e-8bd18023d88d"
      },
      "execution_count": 13,
      "outputs": [
        {
          "output_type": "stream",
          "name": "stdout",
          "text": [
            "0.21969564473386122\n"
          ]
        }
      ]
    },
    {
      "cell_type": "code",
      "source": [],
      "metadata": {
        "id": "I-S-w68qKzzU"
      },
      "execution_count": null,
      "outputs": []
    },
    {
      "cell_type": "code",
      "source": [
        "Exponential Distribution"
      ],
      "metadata": {
        "id": "Vq7aHdL0K0dA"
      },
      "execution_count": null,
      "outputs": []
    },
    {
      "cell_type": "code",
      "source": [
        "from scipy.stats import expon"
      ],
      "metadata": {
        "id": "fEr3XCrmK8p6"
      },
      "execution_count": 14,
      "outputs": []
    },
    {
      "cell_type": "code",
      "source": [
        "# calculate probability that x is less than 50 when mean rate is 40"
      ],
      "metadata": {
        "id": "fvLesnatLI_G"
      },
      "execution_count": 15,
      "outputs": []
    },
    {
      "cell_type": "code",
      "source": [
        "expon.cdf(x=50, scale=40)"
      ],
      "metadata": {
        "colab": {
          "base_uri": "https://localhost:8080/"
        },
        "id": "2fxCB4tlLXz7",
        "outputId": "ae3e3875-f843-446b-ab27-5afd5857d88f"
      },
      "execution_count": 16,
      "outputs": [
        {
          "output_type": "execute_result",
          "data": {
            "text/plain": [
              "0.7134952031398099"
            ]
          },
          "metadata": {},
          "execution_count": 16
        }
      ]
    },
    {
      "cell_type": "code",
      "source": [],
      "metadata": {
        "id": "UaIGktJrLmKD"
      },
      "execution_count": null,
      "outputs": []
    },
    {
      "cell_type": "code",
      "source": [
        "QUESTION 3 SOLUTION"
      ],
      "metadata": {
        "id": "nYOjeGF0LmZv"
      },
      "execution_count": null,
      "outputs": []
    },
    {
      "cell_type": "code",
      "source": [
        "from scipy.stats import expon"
      ],
      "metadata": {
        "id": "rC8DtMnYLpqO"
      },
      "execution_count": 17,
      "outputs": []
    },
    {
      "cell_type": "code",
      "source": [
        "# average of 20 orders per hour. To find probability that in just two minutes the pizzeria will receive an order.\n",
        "# x=20, prob=2"
      ],
      "metadata": {
        "id": "30HcpFT0L4W1"
      },
      "execution_count": 18,
      "outputs": []
    },
    {
      "cell_type": "code",
      "source": [
        "expon.cdf(x=20, scale=2)"
      ],
      "metadata": {
        "colab": {
          "base_uri": "https://localhost:8080/"
        },
        "id": "-zxQvY-nMm_J",
        "outputId": "9682e8e8-8d1a-40ce-9e6e-14a9ce8ad5f5"
      },
      "execution_count": 19,
      "outputs": [
        {
          "output_type": "execute_result",
          "data": {
            "text/plain": [
              "0.9999546000702375"
            ]
          },
          "metadata": {},
          "execution_count": 19
        }
      ]
    }
  ]
}